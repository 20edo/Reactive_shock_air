{
 "cells": [
  {
   "cell_type": "markdown",
   "id": "38d8753e-fe70-4c79-a04c-8e4b6b690ab1",
   "metadata": {},
   "source": [
    "# Two-temperature\n",
    "The main classes of the code are:\n",
    "* $\\textbf{Specie}$: contains specie data such as energy level and degeneracy and allows to compute the energy of a specie at a given temperature\n",
    "* $\\textbf{Reaction and sub-reaction}$: contain the reaction data such as reactants, products, exponents etc. and allows to compute the forward and backward coefficients\n",
    "* $\\textbf{Problem}$: contains the problem information such as initial mixture composition, speed, temperature, etc. and allows to compute the mixture properties for a given state, solve the chemical relaxation problem and plot the results.\n",
    "\n",
    "Each of these classes will be explained in details in the following pages."
   ]
  },
  {
   "cell_type": "markdown",
   "id": "3d1a1c4f-9aa4-49ec-b69d-5b3061fb5c66",
   "metadata": {},
   "source": [
    "# Two temperature\n",
    "The two temperature extends the classes prepared for the one temperature mixture model distinguishing the effects of roto-translational and vibro-electronic temperatures which represent two different flow variables. <br>\n",
    "While in general the energy is a combination of the four energy which thermalize differently, the approximation of tranlational-rotational and vibro-electronic temperatures is common since the themalization of each couple of degrees of freedom. <br>"
   ]
  },
  {
   "cell_type": "markdown",
   "id": "c0961a88-f2a3-42bd-b90b-92fa94eafd70",
   "metadata": {},
   "source": [
    "```{note}\n",
    "Appropriate _2T functions are defined just where needed. The correspective one temperature version are still present in general.\n",
    "```"
   ]
  },
  {
   "cell_type": "markdown",
   "id": "73f192a8-878c-45f5-8bcd-ac7ab03ddfa7",
   "metadata": {},
   "source": [
    "# Required packages and global constants\n",
    "\n",
    "Firstly, some relevant python packages are imporoted and some useful constants are set. From the next page on the first lines will be hidden, they usually serve the same purpuse as here and eventually add some tolerance parameter or load the results of the previous page."
   ]
  },
  {
   "cell_type": "code",
   "execution_count": 1,
   "id": "0f2c8d63-bd1e-41dd-a902-e9f90f5ae61e",
   "metadata": {
    "tags": [
     "hide-cell"
    ]
   },
   "outputs": [],
   "source": [
    "import matplotlib.pyplot as plt\n",
    "import numpy as np\n",
    "import pandas as pd\n",
    "import copy as cp\n",
    "import sys\n",
    "import scipy.optimize as opt\n",
    "import scipy.integrate as itg"
   ]
  },
  {
   "cell_type": "markdown",
   "id": "fb446ad0-e474-445b-8f0c-961117cf8556",
   "metadata": {},
   "source": [
    "The function \"find letter\" is defined in order to distinguish the differents chemical reaction considered and compute the corresponding forward and backward reaction coefficient. See [Chemical reaction class definition](#Chemical-reaction-class-definition)"
   ]
  },
  {
   "cell_type": "code",
   "execution_count": 2,
   "id": "94ce2059-a648-4af7-af24-0c45d4a8d8c3",
   "metadata": {},
   "outputs": [],
   "source": [
    "def find_letter(letter, lst):\n",
    "    return any(letter in word for word in lst)"
   ]
  },
  {
   "cell_type": "code",
   "execution_count": 3,
   "id": "87b098c4-a2b1-4728-98d4-2690c05a1684",
   "metadata": {
    "tags": [
     "hide-cell"
    ]
   },
   "outputs": [],
   "source": [
    "Kb  = 1.3806503e-23;     # Boltzmann constant [J/K]\n",
    "amu = 1.66053904020e-24; # 1/Avogadro's number [mol]\n",
    "Ru = Kb/amu              # [J/(K*mol)]\n",
    "\n",
    "# I set minimum and maximum values for the equilibrium constant Kc \n",
    "# in order to avoid convergence problem due to too big or too small numerical values\n",
    "kc_min = 1e-20\n",
    "kc_max = 1e20"
   ]
  },
  {
   "cell_type": "code",
   "execution_count": 4,
   "id": "2d8317d3-6f2b-4fd7-8d9d-e6d3a72551d8",
   "metadata": {
    "tags": [
     "hide-cell"
    ]
   },
   "outputs": [],
   "source": [
    "%matplotlib inline\n",
    "\n",
    "plt.rcParams[\"figure.figsize\"] = (15,10)\n",
    "\n",
    "rtol = 1e-12\n",
    "atol = 1e-12\n",
    "debug = 0"
   ]
  }
 ],
 "metadata": {
  "kernelspec": {
   "display_name": "Python 3 (ipykernel)",
   "language": "python",
   "name": "python3"
  },
  "language_info": {
   "codemirror_mode": {
    "name": "ipython",
    "version": 3
   },
   "file_extension": ".py",
   "mimetype": "text/x-python",
   "name": "python",
   "nbconvert_exporter": "python",
   "pygments_lexer": "ipython3",
   "version": "3.8.10"
  }
 },
 "nbformat": 4,
 "nbformat_minor": 5
}