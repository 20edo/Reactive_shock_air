{
 "cells": [
  {
   "cell_type": "markdown",
   "metadata": {},
   "source": [
    "# Reactive air shock\n",
    "In this report a code to compute the chemical relaxation past a shock is developed. [Aggiungere cose]\n",
    "\n",
    "Firstly, as python is used, the required packages are imported and global variables are defined.\n",
    "\n"
   ]
  },
  {
   "cell_type": "code",
   "execution_count": 1,
   "metadata": {
    "tags": [
     "hide-cell"
    ]
   },
   "outputs": [],
   "source": [
    "import matplotlib.pyplot as plt\n",
    "import numpy as np\n",
    "import pandas as pd\n",
    "import copy as cp\n",
    "import sys\n",
    "import scipy.optimize as opt\n",
    "import scipy.integrate as itg"
   ]
  },
  {
   "cell_type": "code",
   "execution_count": 2,
   "metadata": {
    "tags": [
     "hide-cell"
    ]
   },
   "outputs": [],
   "source": [
    "Kb  = 1.3806503e-23;  # Boltzmann constant [J/K]\n",
    "amu = 1.66053904020e-24; # 1/Avogadro's number [mol]\n",
    "Ru = Kb/amu #[J/(K*mol)]"
   ]
  },
  {
   "cell_type": "code",
   "execution_count": 3,
   "metadata": {
    "tags": [
     "hide-cell"
    ]
   },
   "outputs": [],
   "source": [
    "%matplotlib inline\n",
    "\n",
    "plt.rcParams[\"figure.figsize\"] = (15,10)\n",
    "\n",
    "#rtol = 1e-3\n",
    "#atol = 1e-6\n",
    "rtol = 1e-16\n",
    "atol = 1e-16\n",
    "debug = 0\n",
    "\n",
    "# tolleranze per la soluzione due sistemi"
   ]
  },
  {
   "cell_type": "markdown",
   "metadata": {},
   "source": [
    "## Specie class definition\n",
    "\n",
    "For each specie a common framework is defined which allows to compute thermodynamic derivatives, energy, temperature and other relevant values for the subsequent calculations starting from the data provided by Park and Zanardi.\n",
    "\n",
    "Assuming that the different contributions can be computed indipendently, the temperature and CVs are defined as the sum of the translational-rotational, vibrational and electronic which are calculated as:\n",
    "\n",
    "* Translational-rotational : \n",
    "    1. If the molecule is monoatomic, it has no rotational dofs, then $ CV^t = \\frac{3}{2} R_{gas} T $\n",
    "    2. If the molecule is not monoatomic, the rotational contribution must be added $ CV^{(rt)} = CV^t + R $\n",
    "    \n",
    "    Then, energy is computed as $e^{tr} = CV  T$.\n",
    "    \n",
    "* Vibrational :\n",
    "    The contribution of vibrational dofs to energy is computed by assuming armhonic oscillator potential. The energy can becomes: $e^{v} = R_{gas} \\frac{\\theta_v}{e^{\\frac{\\theta_v}{T}-1}} $ <br>\n",
    "    The analytical expression for the heat is computed by deriving with respect to T.\n",
    "    \n",
    "* Electronic :\n",
    "    Given the partition function (Zanardi's tables), the energy due to electronic energy levels is computed as: $ e = R_{gas}T^2 \\frac{\\partial}{\\partial T} log(Z) = \\frac{R_gas}{Z} \\sum_i g_i \\theta_i e^{-\\frac{\\theta_i}{T}}$.\n",
    "    \n",
    "    Analogously with the vibrational contribution the expression for the specific heat is obtained deriving the formula with respect to T.\n",
    "    \n",
    "All energies are written as sensible energy whose reference temperature is $T_0 = 293.15 K$"
   ]
  },
  {
   "cell_type": "code",
   "execution_count": 4,
   "metadata": {},
   "outputs": [],
   "source": [
    "class specie:\n",
    "    def __init__(self, mmol, th_v, th_r, th_d, h_form = 0):\n",
    "        self.th_v = th_v\n",
    "        self.th_r = th_r\n",
    "        self.th_d = th_d\n",
    "        self.electro_g = None\n",
    "        self.electro_th = None\n",
    "        self.e0 = None\n",
    "        self.e_rot = None\n",
    "        self.e_vib = None\n",
    "        self.e_ele = None\n",
    "        self.e = None\n",
    "        self.mmol = mmol*1e-3\n",
    "        self.R = Kb/(mmol*1e-3)/amu\n",
    "        self.h_form = h_form\n",
    "        specie.name = None\n",
    "        \n",
    "    def energy(self, T):\n",
    "        'Computes the energy and Cv as the sum of translational-rotational, vibrational and electronic contributions'\n",
    "        e = 0\n",
    "        cv = 0\n",
    "        T0 = 298.15\n",
    "        \n",
    "        # Traslational - rotational \n",
    "        if self.th_r > 0:\n",
    "            cv_rot = 3/2 * self.R + self.R\n",
    "        else:\n",
    "            cv_rot = 3/2 * self.R\n",
    "            \n",
    "        e_rot  = cv_rot * (T-T0)\n",
    "        \n",
    "        # Vibrational \n",
    "        if self.th_v > 0:\n",
    "            cv_vib = self.R*((self.th_v/T)**2)*(np.exp(self.th_v/T))/((np.exp(self.th_v/T)-1)**2)\n",
    "            e_vib  = self.R*self.th_v/(np.exp(self.th_v/T) - 1) - self.R*self.th_v/(np.exp(self.th_v/T0) - 1)\n",
    "        else:\n",
    "            cv_vib = 0\n",
    "            e_vib  = 0\n",
    "        \n",
    "        # Electronic\n",
    "        Z  = np.sum(self.electro_g * np.exp(-self.electro_th/T))\n",
    "        Z0 = np.sum(self.electro_g * np.exp(-self.electro_th/T0))\n",
    "        Z1 = np.sum(self.electro_g * np.exp(-self.electro_th/T) * self.electro_th)\n",
    "        Z10= np.sum(self.electro_g * np.exp(-self.electro_th/T0) * self.electro_th)\n",
    "        Z2 = np.sum(self.electro_g * np.exp(-self.electro_th/T) * self.electro_th**2) \n",
    "        Z20= np.sum(self.electro_g * np.exp(-self.electro_th/T0) * self.electro_th**2) \n",
    "        e_ele  = self.R * Z1 / Z - self.R * Z10 / Z0\n",
    "        cv_ele = self.R/(T**2)*(-(e_ele/self.R)**2 + Z2 / Z)\n",
    "        \n",
    "        # Update Cv and e values\n",
    "        cv = cv_rot + cv_vib + cv_ele\n",
    "        e  = e_rot  + e_vib  + e_ele \n",
    "        e  = e - self.R * T0                         # Additional term to transform in sensible energy\n",
    "        e  = e + self.h_form\n",
    "        \n",
    "        return e, cv"
   ]
  },
  {
   "cell_type": "markdown",
   "metadata": {},
   "source": [
    "## Importing species data \n",
    "Species are defined as objects of class specie and properties are defined according to the tables in Zanardi."
   ]
  },
  {
   "cell_type": "code",
   "execution_count": 5,
   "metadata": {
    "tags": [
     "hide-cell"
    ]
   },
   "outputs": [],
   "source": [
    "N2 = specie(28.0134, 3395, 2.9, 113200)\n",
    "N2.electro_g  = np.array([1, 3, 6, 6, 3, 1, 2, 2, 5, 1, 6, 6, 10, 6, 6])\n",
    "N2.electro_th = np.array([0.0, 7.2231565e+04, 8.5778626e+04, 8.6050267e+04, 9.5351186e+04, 9.8056357e+04,\n",
    "                          9.9682677e+04, 1.0489765e+05, 1.1164896e+05, 1.2258365e+05, 1.2488569e+05, \n",
    "                          1.2824762e+05, 1.3380609e+05, 1.4042964e+05, 1.5049589e+05])\n",
    "N2.name = 'N2'\n",
    "\n",
    "O2 = specie(31.9988, 2239.0, 2.1, 59500)\n",
    "O2.electro_g = np.array([3, 2, 1, 1, 6, 3, 3])\n",
    "O2.electro_th= np.array([0, 1.1391560e+04, 1.8984739e+04, 4.7559736e+04, 4.9912421e+04, 5.0922686e+04,\n",
    "                         7.1898633e+04])\n",
    "O2.name = 'O2'\n",
    "\n",
    "O  = specie(15.9994, 0.0, 0.0, 59500, 1.5574e+07)\n",
    "O.electro_g = np.array([5, 3, 1, 5, 1])\n",
    "O.electro_th= np.array([0.0, 2.2770776e+02, 3.2656888e+02, 2.2830286e+04, 4.8619930e+04])\n",
    "O.name = 'O'\n",
    "\n",
    "N = specie(14.0067, 0, 0, 113200, 3.3747e+07)\n",
    "N.electro_g = np.array([4, 10, 6])\n",
    "N.electro_th= np.array([0.0, 2.7664696e+04, 4.1493093e+04])\n",
    "N.name = 'N'\n",
    "\n",
    "NO = specie(30.0061, 2817.0, 2.5, 75500, 3.0091e+6)\n",
    "NO.electro_g = np.array([4, 8, 2, 4, 4, 4, 4, 2, 4, 2, 4, 4, 2, 2, 2, 4])\n",
    "NO.electro_th= np.array([0.0, 5.4673458e+04, 6.3171396e+04, 6.5994503e+04, 6.9061210e+04, 7.0499985e+04,\n",
    "                        7.4910550e+04, 7.6288753e+04, 8.6761885e+04, 8.7144312e+04, 8.8860771e+04,\n",
    "                        8.9817556e+04, 8.9884459e+04, 9.0427021e+04, 9.0642838e+04, 9.1117633e+04])\n",
    "NO.name = 'NO'\n",
    "\n",
    "N2p= specie(28.0128514, 3395.0, 2.9, 113200, 5.3886e+07)\n",
    "N2p.electro_g = np.array([2, 4, 2, 4, 8, 8, 4, 4, 4, 4, \n",
    "                         8, 8, 4, 4, 2, 2, 4])\n",
    "N2p.electro_th= np.array([0.0, 1.3189972e+04, 3.6633231e+04, 3.6688768e+04, 5.9853048e+04, 6.6183659e+04, \n",
    "                          7.5989919e+04, 7.6255086e+04, 8.2010186e+04, 8.4168349e+04, 8.6326512e+04, \n",
    "                         8.9204062e+04, 9.2081613e+04, 9.2225490e+04, 9.2937684e+04, 9.6397938e+04, 1.0359181e+05])\n",
    "N2p.name = 'N2p'\n",
    "\n",
    "#O2p= specie(31.9982514, 2239, 2.1, 59500, 3.6592e+07)\n",
    "#O2p.electro_g = np.array([3, 2, 1, 1, 6, 3, 3])\n",
    "#O2p.electro_th = np.array([0.0, 1.1391560e+04, 1.8984739e+04, 4.7559736e+04, 4.9912421e+04, 5.0922686e+04, 7.1898633e+04])\n",
    "#O2p.name = 'O2p'\n",
    "O2p= specie(31.9982514, 2239, 2.1, 59500, 3.6592e+07)\n",
    "O2p.electro_g = np.array([4, 8, 4, 6, 4, 2, 4, 4, 4, 4, 8, 4, 2, 2, 4])\n",
    "O2p.electro_th = np.array([0.0, 4.7354408e+04, 5.8373987e+04, 5.8414273e+04, 6.2298966e+04, 6.7334679e+04,\n",
    "                          7.1219372e+04, 7.6542841e+04, 8.8196920e+04, 8.8916307e+04, 9.4239776e+04, 9.4959163e+04,\n",
    "                          9.5920265e+04, 9.9850999e+04, 1.0359181e+05])\n",
    "O2p.name = 'O2p'\n",
    "\n",
    "\n",
    "NOp = specie(30.0055514, 2817, 2.5, 75500, 3.3000e+07)\n",
    "NOp.electro_g = np.array([1, 3, 6, 6, 3, 1, 2, 2])\n",
    "NOp.electro_th= np.array([0.0, 7.5089678e+04, 8.5254624e+04, 8.9035726e+04, 9.7469826e+04, 1.0005530e+05, 1.0280337e+05, 1.0571386e+05])\n",
    "NOp.name = 'NOp'\n",
    "\n",
    "Op = specie(15.9988514, 0.0, 0.0, 59500, 9.8056e+07)\n",
    "Op.electro_g = np.array([4, 10, 6])\n",
    "Op.electro_th = np.array([0.0, 3.8583347e+04, 5.8223492e+04])\n",
    "Op.name = 'Op'\n",
    "\n",
    "Np = specie(14.0061514, 0.0, 0.0, 113200, 1.3438e+08)\n",
    "Np.electro_g = np.array([1, 3, 5, 5, 1, 5, 15])\n",
    "Np.electro_th = np.array([0.0, 7.0068352e+01, 1.8819180e+02, 2.2036569e+04, 4.7031835e+04, 6.7312522e+04, 1.3271908e+05])\n",
    "Np.name = 'Np'\n",
    "\n",
    "em = specie(0.00054858, 0.0, 0.0, 0.0)\n",
    "em.electro_g = np.array([1.0])\n",
    "em.electro_th = np.array([0.0])\n",
    "em.name = 'em'"
   ]
  },
  {
   "cell_type": "markdown",
   "metadata": {
    "tags": []
   },
   "source": [
    "# Reaction class definition\n",
    "A reaction is defined by the soichometric coefficients, the reactants, the products and the reaction rate coefficients. The latter are computed as follows:\n",
    "* Forward reaction coefficient : &nbsp; &nbsp; &nbsp; $k_f$ is expressed as $k_f = C_f T ^{\\eta_f}e^{\\frac{\\theta_d}{T}}$ (coefficients from Park's tables)\n",
    "* Equilibrium reaction coefficient : &nbsp; $k_c$ is computed from the polynomial interpolation by Park\n",
    "* Backward reaction coefficient: &nbsp; &nbsp; &nbsp; $k_b$ is computed as $k_b = \\frac{k_f}{k_c}$"
   ]
  },
  {
   "cell_type": "code",
   "execution_count": 6,
   "metadata": {},
   "outputs": [],
   "source": [
    "class subreaction:\n",
    "    def __init__(self, reactants, products, stoichr, stoichp, Cf, nf, th_d):\n",
    "        self.reactants = reactants\n",
    "        self.products  = products\n",
    "        self.stoichr   = stoichr # Stoichometric coefficient ordered as [reactants, products]\n",
    "        self.stoichp   = stoichp\n",
    "        self.Cf        = Cf\n",
    "        self.nf        = nf\n",
    "        self.th_d      = th_d\n",
    "        self.A         = None\n",
    "        self.e_mol     = None\n",
    "\n",
    "        \n",
    "    def kf(self, T):\n",
    "        kf = self.Cf * T ** self.nf * np.exp(-self.th_d / T)\n",
    "        return kf\n",
    "        \n",
    "    def kb(self, T):\n",
    "        kb = self.kf(T)/self.kc(T)\n",
    "        return kb\n",
    "    \n",
    "    def kc(self, T):\n",
    "        Z = 10000 / T # from Zanardi's 2.5.1 Chemical Kinetic Model\n",
    "        # kc = np.exp(np.dot(Z ** np.arange(0,5), self.A))\n",
    "        kc = np.exp(self.A[0] + self.A[1]*Z + self.A[2]*Z**2 + self.A[3]*Z**3 + self.A[4]*Z**4)\n",
    "        if kc == 0:\n",
    "            kc = 1e-15\n",
    "        return kc\n",
    "    \n",
    "    \n",
    "class reaction:\n",
    "    def __init__(self, A, e_mol):\n",
    "        self.subreactions = []\n",
    "        self.A            = np.array(A)\n",
    "        self.e_mol        = e_mol\n",
    "    \n",
    "    \n",
    "    def add_subreaction(self, subr):\n",
    "        subr.A     = self.A\n",
    "        subr.e_mol = self.e_mol\n",
    "        self.subreactions.append(subr)"
   ]
  },
  {
   "cell_type": "markdown",
   "metadata": {},
   "source": [
    "## Importing reactions data\n",
    "Reacttions data are taken from Park's tables"
   ]
  },
  {
   "cell_type": "code",
   "execution_count": 7,
   "metadata": {
    "tags": [
     "hide-cell"
    ]
   },
   "outputs": [],
   "source": [
    "# I devide the constant rate Cf for 1e6 to convert from cm3/mol to m3/mol\n",
    "# I also multiplicate e_mol for 4184 in order to convert Kcal/mol in J/mol\n",
    "\n",
    "###O2diss = reaction([1.335, -4.127, 0.616, 0.093, -0.005], -117.98*4184)\n",
    "O2diss = reaction([1.335, -4.127, -0.616, 0.093, -0.005], -117.98*4184)\n",
    "O2diss.add_subreaction(subreaction([O2, N], [O, N], [1, 1], [2,1], 8.25e19/1e6,\n",
    "                                  -1, 59500))\n",
    "O2diss.add_subreaction(subreaction([O2, O], [O, O], [1, 1], [2,1], 8.25e19/1e6,\n",
    "                                  -1, 59500))\n",
    "O2diss.add_subreaction(subreaction([O2, Np], [O, Np], [1, 1], [2,1], 8.25e19/1e6,\n",
    "                                  -1, 59500))\n",
    "O2diss.add_subreaction(subreaction([O2, Op], [O, Op], [1, 1], [2,1], 8.25e19/1e6,\n",
    "                                  -1, 59500))\n",
    "O2diss.add_subreaction(subreaction([O2, N2], [O, N2], [1, 1], [2,1], 2.75e19/1e6,\n",
    "                                  -1, 59500))\n",
    "O2diss.add_subreaction(subreaction([O2, O2], [O, O2], [1, 1], [2,1], 2.75e19/1e6,\n",
    "                                  -1, 59500))\n",
    "O2diss.add_subreaction(subreaction([O2, NO], [O, NO], [1, 1], [2,1], 2.75e19/1e6,\n",
    "                                  -1, 59500))\n",
    "O2diss.add_subreaction(subreaction([O2, N2p], [O, N2p], [1, 1], [2,1], 2.75e19/1e6,\n",
    "                                  -1, 59500))\n",
    "O2diss.add_subreaction(subreaction([O2, O2p], [O, O2p], [1, 1], [2,1], 2.75e19/1e6,\n",
    "                                  -1, 59500))\n",
    "O2diss.add_subreaction(subreaction([O2, NOp], [O, NOp], [1, 1], [2,1], 2.75e19/1e6,\n",
    "                                  -1, 59500))\n",
    "O2diss.add_subreaction(subreaction([O2, em], [O, em], [1, 1], [2,1], 1.32e22/1e6,\n",
    "                                  -1, 59500))"
   ]
  },
  {
   "cell_type": "code",
   "execution_count": 8,
   "metadata": {
    "tags": [
     "hide-cell"
    ]
   },
   "outputs": [],
   "source": [
    "N2diss = reaction([ 3.898, -12.611, 0.683, -0.118, 0.006], -225.00*4184)\n",
    "N2diss.add_subreaction(subreaction([N2, N], [N, N], [1, 1], [2,1], 1.11e22/1e6,\n",
    "                                  -1.6, 113200))\n",
    "N2diss.add_subreaction(subreaction([N2, O], [N, O], [1, 1], [2,1], 1.11e22/1e6,\n",
    "                                  -1.6, 113200))\n",
    "N2diss.add_subreaction(subreaction([N2, Np], [N, Np], [1, 1], [2,1], 1.11e22/1e6,\n",
    "                                  -1.6, 113200))\n",
    "N2diss.add_subreaction(subreaction([N2, Op], [N, Op], [1, 1], [2,1], 1.10e22/1e6,\n",
    "                                  -1.6, 113200))\n",
    "N2diss.add_subreaction(subreaction([N2, N2], [N, N2], [1, 1], [2,1], 3.7e21/1e6,\n",
    "                                  -1.6, 113200))\n",
    "N2diss.add_subreaction(subreaction([N2, O2], [N, O2], [1, 1], [2,1], 3.7e21/1e6,\n",
    "                                  -1.6, 113200))\n",
    "N2diss.add_subreaction(subreaction([N2, NO], [N, NO], [1, 1], [2,1], 3.7e21/1e6,\n",
    "                                  -1.6, 113200))\n",
    "N2diss.add_subreaction(subreaction([N2, N2p], [N, N2p], [1, 1], [2,1], 3.7e21/1e6,\n",
    "                                  -1.6, 113200))\n",
    "N2diss.add_subreaction(subreaction([N2, O2p], [N, O2p], [1, 1], [2,1], 3.7e21/1e6,\n",
    "                                  -1.6, 113200))\n",
    "N2diss.add_subreaction(subreaction([N2, NOp], [N, NOp], [1, 1], [2,1], 3.7e21/1e6,\n",
    "                                  -1.6, 113200))\n",
    "N2diss.add_subreaction(subreaction([N2, em], [N, em], [1, 1], [2,1], 1.11e24/1e6,\n",
    "                                  -1.6, 113200))\n"
   ]
  },
  {
   "cell_type": "code",
   "execution_count": 9,
   "metadata": {
    "tags": [
     "hide-cell"
    ]
   },
   "outputs": [],
   "source": [
    "NOdiss = reaction([1.549, -7.784, 0.228, -0.043, 0.002], -150.03*4184) \n",
    "###NOdiss.add_subreaction(subreaction([NO, N], [N, O, N], [1, 1], [1, 1, 1], 4.6e17/1e6,\n",
    "###                                  -0.5, 75500))\n",
    "###NOdiss.add_subreaction(subreaction([NO, O], [N, O, O], [1, 1], [1, 1, 1], 4.6e17/1e6,\n",
    "###                                  -0.5, 75500))\n",
    "NOdiss.add_subreaction(subreaction([NO, N], [N, O], [1, 1], [2, 1], 4.6e17/1e6,\n",
    "                                  -0.5, 75500))\n",
    "NOdiss.add_subreaction(subreaction([NO, O], [N, O], [1, 1], [1, 2], 4.6e17/1e6,\n",
    "                                  -0.5, 75500))\n",
    "NOdiss.add_subreaction(subreaction([NO, Np], [N, O, Np], [1, 1], [1, 1, 1], 4.6e17/1e6,\n",
    "                                  -0.5, 75500))\n",
    "NOdiss.add_subreaction(subreaction([NO, Op], [N, O, Op], [1, 1], [1, 1, 1], 4.6e17/1e6,\n",
    "                                  -0.5, 75500))\n",
    "NOdiss.add_subreaction(subreaction([NO, N2], [N, O, N2], [1, 1], [1, 1, 1], 2.3e17/1e6,\n",
    "                                  -0.5, 75500))\n",
    "NOdiss.add_subreaction(subreaction([NO, O2], [N, O, O2], [1, 1], [1, 1, 1], 2.3e17/1e6,\n",
    "                                  -0.5, 75500))\n",
    "NOdiss.add_subreaction(subreaction([NO, NO], [N, O, NO], [1, 1], [1, 1, 1], 2.3e17/1e6,\n",
    "                                  -0.5, 75500))\n",
    "NOdiss.add_subreaction(subreaction([NO, N2p], [N, O, N2p], [1, 1], [1, 1, 1], 2.3e17/1e6,\n",
    "                                  -0.5, 75500))\n",
    "NOdiss.add_subreaction(subreaction([NO, O2p], [N, O, O2p], [1, 1], [1, 1, 1], 2.3e17/1e6,\n",
    "                                  -0.5, 75500))\n",
    "NOdiss.add_subreaction(subreaction([NO, NOp], [N, O, NOp], [1, 1], [1, 1, 1], 2.3e17/1e6,\n",
    "                                  -0.5, 75500))\n",
    "NOdiss.add_subreaction(subreaction([NO, em], [N, O, em], [1, 1], [1, 1, 1], 7.36e19/1e6,\n",
    "                                  -0.5, 75500))"
   ]
  },
  {
   "cell_type": "code",
   "execution_count": 10,
   "metadata": {},
   "outputs": [],
   "source": [
    "#Exchange reactions\n",
    "NO_O       = subreaction([NO, O], [N, O2], [1, 1], [1, 1], 2.16e8/1e6, 1.29, 19220)\n",
    "NO_O.A     = np.array([0.215, -3.657, 0.843, -0.136, 0.007])\n",
    "NO_O.e_mol = -32.05*4184\n",
    "\n",
    "O_N2       = subreaction([O, N2], [N, NO], [1, 1], [1, 1], 3.18e13/1e6, 0.1, 37700)\n",
    "O_N2.A     = np.array([2.349, -4.828, 0.455, -0.075, 0.004])\n",
    "O_N2.e_mol = -74.97*4184\n",
    "\n",
    "O_O2p      = subreaction([O, O2p], [O2, Op], [1, 1], [1, 1], 6.85e13/1e6, -0.520, 18600)\n",
    "O_O2p.A    = np.array([-0.411, -1.998, -0.002, 0.005, 0.00])\n",
    "O_O2p.e_mol= -36.88*4184\n",
    "\n",
    "N2_Np       = subreaction([N2, Np], [N, N2p], [1, 1], [1, 1], 9.85e12/1e6, -0.180, 12100)\n",
    "N2_Np.A     = np.array([1.963, -3.116, 0.692, -0.103, 0.005])\n",
    "N2_Np.e_mol = -24.06*4184\n",
    "\n",
    "O_NOp      = subreaction([O, NOp], [NO, Op], [1, 1], [1, 1], 2.75e13/1e6, 0.010, 51000)\n",
    "O_NOp.A    = np.array([1.705, -6.223, 0.522, -0.090, 0.005])\n",
    "O_NOp.e_mol= -101.34*4184\n",
    "\n",
    "N2_Op       = subreaction([N2, Op], [O, N2p], [1, 1], [1, 1], 6.33e16/1e6, -0.210, 22200)\n",
    "N2_Op.A     = np.array([2.391, -2.443, -0.080, 0.027, -0.002])\n",
    "N2_Op.e_mol = -44.23*4184\n",
    "\n",
    "N_NOp       = subreaction([N, NOp], [NO, Np], [1, 1], [1, 1], 2.21e15/1e6, -0.020, 61100)\n",
    "N_NOp.A     = np.array([2.132, -5.550, -0.249, 0.041, -0.002])\n",
    "N_NOp.e_mol = -121.51*4184\n",
    "\n",
    "O2_NOp      = subreaction([O2, NOp], [NO, O2p], [1, 1], [1, 1], 1.03e16/1e6, -0.170, 32400)\n",
    "O2_NOp.A    = np.array([2.115, -4.225, 0.524, -0.095, 0.005])\n",
    "O2_NOp.e_mol= -64.46*4184\n",
    "\n",
    "NOp_N       = subreaction([NOp, N], [N2p, O], [1, 1], [1, 1], 1.7e13/1e6, 0.400, 35500)\n",
    "NOp_N.A     = np.array([1.746, -3.838, -0.013, 0.013, -0.001])\n",
    "NOp_N.e_mol = -70.60*4184\n",
    "\n",
    "# Associative ionization\n",
    "O___N       = subreaction([O, N], [NOp, em], [1, 1], [1, 1], 1.53e11/1e6, -0.370, 3200)\n",
    "O___N.A     = np.array([-6.234, -5.536, 0.494, -0.058, 0.003])\n",
    "O___N.e_mol = -63.69*4184\n",
    "\n",
    "O___O       = subreaction([O, O], [O2p, em], [1, 1], [1, 1], 3.85e11/1e6, 0.490, 80600)\n",
    "O___O.A     = np.array([-3.904, -13.418, 1.861, -0.288, 0.015])\n",
    "O___O.e_mol = -160.20*4184\n",
    "\n",
    "N___N       = subreaction([N, N], [N2p, em], [1, 1], [1, 1], 1.79e11/1e6, 0.770, 67500)\n",
    "N___N.A     = np.array([-4.488, -9.374, 0.481, -0.044, 0.002])\n",
    "N___N.e_mol = -134.29*4184\n",
    "\n",
    "# Electron impact ionization\n",
    "O_ion       = subreaction([O, em], [Op, em], [1, 1], [1, 2], 3.9e33/1e6, -3.780, 158500)\n",
    "O_ion.A     = np.array([-2.980, -19.534, 1.244, -0.190, 0.010])\n",
    "O_ion.e_mol = -315.06*4184\n",
    "\n",
    "N_ion       = subreaction([N, em], [Np, em], [1, 1], [1, 2], 2.5e34/1e6, -3.820, 168600)\n",
    "N_ion.A     = np.array([-2.553, -18.870, 0.472, -0.060, 0.003])\n",
    "N_ion.e_mol = -335.23*4184"
   ]
  },
  {
   "cell_type": "raw",
   "metadata": {},
   "source": [
    "# Manca l'elettrone ai prodotti? Questa reazione è sbagliata\n",
    "N2_Op       = subreaction([N2, Op], [O, N2p], [1, 1], [1, 1], 9.85e12/1e6, -0.180, 12100)\n",
    "N2_Op.A     = np.array([1.963, -3.116, 0.692, -0.103, 0.005])\n",
    "N2_Op.e_mol = -24.06*4184\n",
    "\n",
    "# Controllare come trattare O- e compilare perchè così è sbagliata\n",
    "O_NOp       = subreaction([N2, Np], [N, N2p], [1, 1], [1, 1], 9.85e12/1e6, -0.180, 12100)\n",
    "O_NOp.A     = np.array([1.963, -3.116, 0.692, -0.103, 0.005])\n",
    "O_NOp.e_mol = -24.06*4184\n",
    "# Mancano tutti gli exchange che generano specie con il -"
   ]
  },
  {
   "cell_type": "markdown",
   "metadata": {},
   "source": [
    "# Problem class definition\n",
    "We define a class problem so that several condition can be studied, analyzed, compared and contrasted.\n",
    "\n",
    "The initial conditions for the shock relaxation region are obtained by assuming frozen chemistry through the shock which, in the Euler equations framework is a discontinuity whose jumps are defined by the Rankine-Hugoniot relations.\n",
    "\n",
    "The variable are mixture density, velocity, energy and mixture mass fractions.\n",
    "\n",
    "For the mixture considered the the following relations hold:\n",
    "* $e_{mixture} = \\Sigma_i e_i Y_i $\n",
    "* $CV_{mixture} = \\Sigma_i CV_i Y_i $\n",
    "* $R_{mixture} = \\Sigma_i R_i Y_i $\n",
    "\n",
    "The system of equation in the relaxation region is written as :\n",
    "\n",
    "* Mass equation: <br />\n",
    "    $ \\frac{\\partial \\rho u}{\\partial x} = \\frac{\\partial \\rho}{\\partial x}u + \\rho \\frac{\\partial u}{\\partial x} = 0$ \n",
    "    \n",
    "    \n",
    "* Momentum equation: <br />\n",
    "    $ \\rho u \\frac{\\partial u}{\\partial x} = - \\frac{\\partial P}{\\partial x} $ <br>\n",
    "    Since $ P = P(\\rho, e, Y) = \\rho \\Sigma_i Y_i R T $ , then $ dp = \\frac{\\partial P}{\\partial \\rho} d \\rho + \\frac{\\partial P}{\\partial e} d e + \\Sigma_i \\frac{\\partial P}{\\partial Y_i} d Y_i $  <br>\n",
    "    The derivatives can be expressed as : <br>\n",
    "    - $ \\frac{\\partial P}{\\partial \\rho} = \\Sigma_i Y_i R T $ <br>\n",
    "    - $ \\frac{\\partial P}{\\partial e} = \\frac{\\partial P}{\\partial T}\\frac{\\partial T}{\\partial e} = \\rho \\frac{\\Sigma_i Y_i R}{CV_{mixture}}$ <br>\n",
    "    - $ \\frac{\\partial P}{\\partial Y_i} = \\rho R T$ <br>\n",
    "    Hence, the momentum equation can be written as : <br>\n",
    "    $ \\rho u \\frac{\\partial u}{\\partial x} = - \\frac{\\partial P}{\\partial x} = \\Sigma_i Y_i R T \\frac{\\partial \\rho}{\\partial x} + \\rho \\frac{\\Sigma_i Y_i R}{CV_{mixture}} \\frac{\\partial e}{\\partial x } + \\rho R T \\Sigma_i \\frac{Y_i}{x}$    \n",
    "    \n",
    "* Energy equation: <br />\n",
    "    $ \\frac{\\partial e}{\\partial x} = \\frac{P}{\\rho^2} \\frac{\\partial \\rho}{\\partial x}$\n",
    "    \n",
    "    \n",
    "* Species transport equation: <br />\n",
    "    $ \\rho u \\frac{\\partial Y_i }{\\partial x} = \\omega_i \\qquad for \\; i = 1 ... N_s $\n",
    "    "
   ]
  },
  {
   "cell_type": "code",
   "execution_count": 11,
   "metadata": {},
   "outputs": [],
   "source": [
    "class problem:\n",
    "    def __init__(self):\n",
    "        self.specie = []\n",
    "        self.Y0     = []\n",
    "        self.T0     = 300\n",
    "        self.rho0   = 1.225\n",
    "        self.u0     = 3000\n",
    "        self.reaction = []\n",
    "        self.sigma     = 3.14 * (6.2 * 1e-10) ** 2 # Sigma HS nitrogen\n",
    "    \n",
    "    def add_specie_ic(self, specie, Y0):\n",
    "        \n",
    "        if not self.specie.count(specie):\n",
    "            self.specie.append(specie)\n",
    "            self.Y0.append(Y0)\n",
    "        \n",
    "        else:\n",
    "            idx = self.specie.index(specie)\n",
    "            self.Y0[idx] = Y0\n",
    "        \n",
    "    def R(self, Y):\n",
    "        R = 0\n",
    "        for x in range(len(self.specie)):\n",
    "            R += self.specie[x].R * Y[x]\n",
    "        return R\n",
    "    \n",
    "    def energy(self, Y, T):\n",
    "        e, CV = 0, 0\n",
    "        for x in range(len(self.specie)):\n",
    "            e1, CV1 = self.specie[x].energy(T)\n",
    "            e, CV = e + e1 * Y[x], CV + CV1*Y[x]\n",
    "        return e, CV        \n",
    "    \n",
    "    def e_Y(self, Y, T):\n",
    "        '''Computes the derivative of energy wrt Y at constant T'''\n",
    "        e_Y = np.zeros(np.shape(self.Y0))\n",
    "        for x in range(len(e_Y)):\n",
    "            e_Y[x], inutile = self.specie[x].energy(T)\n",
    "        return e_Y\n",
    "        \n",
    "    def only_e(self, Y , T):\n",
    "        e, CV = 0, 0\n",
    "        for x in range(len(self.specie)):\n",
    "            if debug:\n",
    "                print('only_e x : ' + str(x))\n",
    "                print('only e Y : ' + str(Y))\n",
    "            e1, CV1 = self.specie[x].energy(T)\n",
    "            e = e + e1 * Y[x]\n",
    "        return e    \n",
    "    \n",
    "    def T_from_e(self, Y, e, T0 = 1e3):\n",
    "        \n",
    "        T, infodict, ier, mesg = opt.fsolve(lambda T : self.only_e(Y, T) - e, x0 = T0, \n",
    "                                            xtol=1e-12, full_output=1)\n",
    "        if not ier:\n",
    "            print('T_from_e did not converge')\n",
    "            \n",
    "        return T"
   ]
  },
  {
   "cell_type": "markdown",
   "metadata": {},
   "source": [
    "## RH jump relations"
   ]
  },
  {
   "cell_type": "markdown",
   "metadata": {},
   "source": [
    "Firstly, the Rankine Hugoniot relations are solved for a perfect gas with the same R of the mixture and the isoentropic coefficient $\\gamma = 1.4$. <br>\n",
    "Then, the results obtained are used as guess to initialize the non-linear solver. The Rankine-Hugoniot relations read: <br>\n",
    "\n",
    "\\begin{cases} \n",
    "\\rho_0 u_0 = \\rho_1 u \\\\ \n",
    "\\rho_0 u_0^2 + P_0 = \\rho_1 u_1^2 + P_1 \\\\ \n",
    "h_0^t  = e_0 + \\frac{P_0}{\\rho_0} + \\frac{1}{2}u_0^2 = \n",
    "e_1 + \\frac{P_1}{\\rho_1} + \\frac{1}{2} u_1^2 = h_1^t \n",
    "\\end{cases} "
   ]
  },
  {
   "cell_type": "code",
   "execution_count": 12,
   "metadata": {},
   "outputs": [],
   "source": [
    "def RHsystem(self, x):\n",
    "    rho2, T2, u2 = x\n",
    "    p2 = rho2 * self.R(self.Y0) * T2\n",
    "    e2, CV2 = self.energy(self.Y0, T2)\n",
    "    \n",
    "    p0 = self.rho0 * self.R(self.Y0) * self.T0\n",
    "    e0, CV0 = self.energy(self.Y0, self.T0)\n",
    "    \n",
    "    out_rho = (self.rho0 * self.u0)                       - (rho2 * u2)\n",
    "    out_mom = (self.rho0 * self.u0 ** 2 +  p0)            - (rho2 * u2**2 + p2)\n",
    "    out_ene = (e0 + p0 / self.rho0 + 1 / 2 * self.u0 ** 2)- (e2 + p2 / rho2 + 1 / 2 * u2 ** 2 )\n",
    "      \n",
    "    out = [out_rho, out_mom, out_ene]\n",
    "    \n",
    "    if debug:\n",
    "        print('Rho2, T2, u2 : ' + str(rho2), '/', str(T2), '/', str(u2))\n",
    "        print(str(out))\n",
    "        \n",
    "    return out\n",
    "\n",
    "    \n",
    "def RHjump(self):\n",
    "    # Build a guess assuming perfect gas with gamma = 1.4\n",
    "    gamma = 1.4\n",
    "    c0 = (gamma * self.R(self.Y0) * self.T0) ** (1/2)\n",
    "    p0 = self.rho0 * self.R(self.Y0) * self.T0\n",
    "    M0 = self.u0 / c0\n",
    "    M2 = (((gamma - 1) * M0 ** 2 + 2) / ( 2 * gamma * M0 ** 2 - ( gamma - 1))) ** ( 1 / 2); \n",
    "    rho2 = self.rho0 * ( gamma + 1 ) * M0 ** 2 / ( ( gamma - 1 ) * M0 ** 2 + 2); \n",
    "    p2 = p0 * ( 2 * gamma * M0 ** 2 - ( gamma - 1 ) ) / ( gamma + 1); \n",
    "    T2 = self.T0 * ( ( 2 * gamma * M0 ** 2 - ( gamma - 1 ) ) * ( ( gamma - 1 ) * M0 ** 2 + 2 ) ) \\\n",
    "            / ( ( gamma + 1 ) ** 2 * M0 ** 2 ); \n",
    "    c2 = (gamma * self.R(self.Y0) * T2)**(1/2);\n",
    "    u2 = c2 * M2;\n",
    "        \n",
    "    # Solve RH relations\n",
    "    x, infodict, ier, mesg = opt.fsolve(lambda x : self.RHsystem(x), x0 = [rho2, T2, u2], xtol=atol*1e-2, \n",
    "                                     full_output=1) # , epsfcn=1e-8, factor = 0.1\n",
    "\n",
    "    if not ier:\n",
    "        print('RH not converged')\n",
    "            \n",
    "    self.rho1, self.T1, self.u1 = x[0], x[1], x[2]\n",
    "    \n",
    "    # Compute reference post shock mean free path\n",
    "    mmol = []\n",
    "    \n",
    "    for i in self.specie:\n",
    "        mmol.append(i.mmol)\n",
    "    \n",
    "    mmixt = np.sum(np.array(mmol) * self.Y0)\n",
    "    \n",
    "    self.mfp = Kb * T2 / p2  / self.sigma\n",
    "    \n",
    "    e2, cv2 = self.energy(self.Y0, self.T1)\n",
    "    cp = cv2 + self.R(self.Y0)\n",
    "    gamma = cp / cv2\n",
    "    c2c = (gamma * self.R(self.Y0) * self.T1) ** (1/2)\n",
    "    M2c = self.u1 / c2c\n",
    "    \n",
    "    print('Pre shock Mach : ' + str(M0))\n",
    "    print('******************************')\n",
    "    print('Post-shock guess values:')\n",
    "    print('rho    : ' + str(rho2))\n",
    "    print('T      : ' + str(T2))\n",
    "    print('Speed  : ' + str(u2))\n",
    "    print('Mach   : ' + str(M2))\n",
    "    print('******************************')\n",
    "    print('Post-shock values:')\n",
    "    print('rho    : ' + str(self.rho1))\n",
    "    print('T      : ' + str(self.T1))\n",
    "    print('Speed  : ' + str(self.u1))\n",
    "    print('Mach   : ' + str(M2c))\n",
    "    print('******************************')\n",
    "    print('Reference mean free path : ' + str(self.mfp))\n",
    "    print()\n",
    "    if x[2] < 0:\n",
    "        print('speed is negative!!! Look at RHjump')\n",
    "        sys.exit(\"EXITING\")\n",
    "\n",
    "problem.RHsystem = RHsystem\n",
    "problem.RHjump = RHjump"
   ]
  },
  {
   "cell_type": "markdown",
   "metadata": {},
   "source": [
    "## Computation of the chemical source terms"
   ]
  },
  {
   "cell_type": "markdown",
   "metadata": {},
   "source": [
    "To compute the chemical sources for each specie, for each reaction the specie mass fraction vector is transformed in \"local\" number densities which are multiplied by the forward and backward reaction coefficients as defined before to compute the reaction rate. <br>\n",
    "According to the Park's definition of forward and backward coefficients, the reaction rate is computed as: <br>\n",
    "\n",
    "$ K_f \\Pi_{i = 0}^{N_{reactants}} $\n",
    "\n",
    "Finally, the generated/destroyed species are expressed in terms of \"global\" mass fraction rate and summed for each reaction and sub-reaction.\n",
    "\n",
    "[Aggiungere] and the released energy is computed"
   ]
  },
  {
   "cell_type": "code",
   "execution_count": 13,
   "metadata": {},
   "outputs": [],
   "source": [
    "def compute_Sy(self, rho, T, Y):\n",
    "    S = np.zeros(np.shape(self.specie))\n",
    "    Y = np.array(Y)\n",
    "    Se = 0\n",
    "    # Recover mmol\n",
    "    mmol = np.array([])\n",
    "    for i in self.specie:\n",
    "        mmol = np.append(mmol, i.mmol)\n",
    "    \n",
    "    \n",
    "    for i in range(len(self.reaction)):\n",
    "        if isinstance(self.reaction[i], reaction):\n",
    "            for j in range(len(self.reaction[i].subreactions)):\n",
    "                obj = self.reaction[i].subreactions[j]\n",
    "                # Add the reactants to the reactants matrix by an incidence matrix omegar\n",
    "                omegar = np.zeros([len(obj.reactants), len(self.specie)])\n",
    "                for k in range(len(obj.reactants)):\n",
    "                    idx = self.specie.index(obj.reactants[k])\n",
    "                    omegar[k][idx] = 1\n",
    "                \n",
    "                # Add the products to the products matrix by an incidence matrix omegap\n",
    "                omegap = np.zeros([len(obj.products), len(self.specie)])\n",
    "                \n",
    "                for k in range(len(obj.products)):\n",
    "                    idx = self.specie.index(obj.products[k])\n",
    "                    omegap[k][idx] = 1\n",
    "                \n",
    "                # Transform the global y vector to the local n vector\n",
    "                nr_l = np.matmul( rho * Y / mmol, np.transpose(omegar))\n",
    "                np_l = np.matmul( rho * Y / mmol, np.transpose(omegap))\n",
    "                \n",
    "                # Compute the reaction rate\n",
    "                w_s = obj.kf(T) * np.prod(nr_l ** obj.stoichr) - obj.kb(T) * np.prod(np_l ** obj.stoichp)\n",
    "                #breakpoint()\n",
    "                # Update the source terms for the species equation\n",
    "                S += mmol * (np.matmul(obj.stoichp, omegap) - np.matmul( obj.stoichr, omegar)) * w_s\n",
    "                #Update the energy source term\n",
    "                Se = obj.e_mol * w_s\n",
    "                # S += mmol * (np.matmul(np.transpose(omegap), obj.stoichp) - np.matmul(  np.transpose(omegar), obj.stoichr)) * w_s\n",
    "                \n",
    "        elif isinstance(self.reaction[i], subreaction):\n",
    "                obj = self.reaction[i]\n",
    "                \n",
    "                # Add the reactants to the reactants matrix by an incidence matrix omegar\n",
    "                omegar = np.zeros([len(obj.reactants), len(self.specie)])\n",
    "                for k in range(len(obj.reactants)):\n",
    "                    idx = self.specie.index(obj.reactants[k])\n",
    "                    omegar[k][idx] = 1\n",
    "                \n",
    "                # Add the products to the products matrix by an incidence matrix omegap\n",
    "                omegap = np.zeros([len(obj.products), len(self.specie)])\n",
    "                \n",
    "                for k in range(len(obj.products)):\n",
    "                    idx = self.specie.index(obj.products[k])\n",
    "                    omegap[k][idx] = 1\n",
    "\n",
    "                # Transform the global y vector to the local n vector\n",
    "                nr_l = np.matmul( rho * Y / mmol, np.transpose(omegar))\n",
    "                np_l = np.matmul( rho * Y / mmol, np.transpose(omegap))\n",
    "                \n",
    "                # Compute the reaction rate\n",
    "                w_s = obj.kf(T) * np.prod(nr_l ** obj.stoichr) - obj.kb(T) * np.prod(np_l ** obj.stoichp)\n",
    "                \n",
    "                # breakpoint()\n",
    "                # Update the source terms for the species equation\n",
    "                S += mmol * (np.matmul(obj.stoichp, omegap) - np.matmul( obj.stoichr, omegar)) * w_s\n",
    "                #Update the energy source term\n",
    "                Se = obj.e_mol * w_s\n",
    "                \n",
    "                \n",
    "        else: print('Member of the reaction group of this problem are ill-defined')\n",
    "    \n",
    "    if debug:\n",
    "        print('Se = : ' + str(Se))\n",
    "    \n",
    "    return S, Se\n",
    "\n",
    "problem.compute_Sy = compute_Sy"
   ]
  },
  {
   "cell_type": "markdown",
   "metadata": {},
   "source": [
    "## Pre-shock relax chemistry funciton"
   ]
  },
  {
   "cell_type": "markdown",
   "metadata": {},
   "source": [
    "Starting from the given composition, the equilibrium composition in the reference state (pre-shock) is computed.\n"
   ]
  },
  {
   "cell_type": "code",
   "execution_count": 14,
   "metadata": {},
   "outputs": [],
   "source": [
    "def pre_shock_relax_chemistry(self):\n",
    "    output = 1\n",
    "    Y  = self.Y0\n",
    "    Sy = self.compute_Sy(self.rho0, self.T0, Y)\n",
    "    \n",
    "    while (any(abs(Sy) > 1e-8)):\n",
    "        \n",
    "        Sy = self.compute_Sy(self.rho0, self.T0, Y)\n",
    "    \n",
    "        Y += 1e-6 * Sy\n",
    "        if output :\n",
    "            for i in range(len(_11specie.specie)):\n",
    "                print('********************************')\n",
    "                print(_11specie.specie[i].name + ' concentration : ' + str(Y[i]) + '    Sorgente : '  + str (Sy[i]))\n",
    "                print('********************************')\n",
    "            \n",
    "        if not (np.sum(Y) - 1 < 1e-8):\n",
    "            print('Species not conserved in pre-shock relax')\n",
    "            \n",
    "        if any(Y < 0):\n",
    "            print('Y less than 0 in chemical relax pre - shock')\n",
    "            \n",
    "    return Y\n",
    "\n",
    "problem.pre_shock_relax_chemistry = pre_shock_relax_chemistry"
   ]
  },
  {
   "cell_type": "markdown",
   "metadata": {},
   "source": [
    "## Energy version"
   ]
  },
  {
   "cell_type": "markdown",
   "metadata": {},
   "source": [
    "### Euler system of equation and solve function, energy version  // depreciated, with and without fsolve"
   ]
  },
  {
   "cell_type": "raw",
   "metadata": {},
   "source": [
    "def Euler_x(self, x_spatial, x):\n",
    "        \n",
    "        print('Solving for x = ' + str(x_spatial))\n",
    "        \n",
    "        \n",
    "        if debug:\n",
    "                print('State values  = ' + str(x))\n",
    "        \n",
    "        rho, u, e = x[0], x[1], x[2]\n",
    "        Y = x[3:]\n",
    "        T = self.T_from_e(Y, e)\n",
    "        e2, cv = self.energy( Y, T )\n",
    "        S, Se = self.compute_Sy( rho, T, Y)\n",
    "        P = self.R(Y) * rho * T  \n",
    "        \n",
    "        A = self.R(Y) * T / rho / u\n",
    "        B = rho * self.R(Y) / cv\n",
    "        C = rho * Ru * T\n",
    "        D = - u / rho\n",
    "        F = P / rho\n",
    "        J = S / rho / u\n",
    "        \n",
    "        rho_x = C * np.sum(J) / (- A - D - B * F)\n",
    "        u_x   = D * rho_x\n",
    "        e_x   = F * rho_x\n",
    "        Y_x   = J\n",
    "        \n",
    "        x_x = [rho_x]\n",
    "        x_x.append(u_x)\n",
    "        x_x.append(e_x)\n",
    "    \n",
    "        for i in Y_x:\n",
    "            x_x.append(i)\n",
    "           \n",
    "        if debug:\n",
    "            print('A  = ' + str(A))\n",
    "            print('B  = ' + str(B))\n",
    "            print('C  = ' + str(C))\n",
    "            print('D  = ' + str(D))\n",
    "            print('F  = ' + str(F))\n",
    "            print('J  = ' + str(np.sum(J)))\n",
    "            print('x_x = ' + str(x_x))\n",
    "            \n",
    "        return x_x"
   ]
  },
  {
   "cell_type": "raw",
   "metadata": {
    "tags": []
   },
   "source": [
    "def Euler_system(self, x, x_x):\n",
    "    rho, u, e = x[0], x[1], x[2]\n",
    "    Y = x[3:]\n",
    "    rho_x, u_x, e_x = x_x[0], x_x[1], x_x[2]\n",
    "    Y_x = x_x[3:]\n",
    "    \n",
    "    \n",
    "    T = self.T_from_e(Y, e)\n",
    "    \n",
    "    e2, cv = self.energy( Y, T )\n",
    "    \n",
    "    S, Se = self.compute_Sy( rho, T, Y)\n",
    "    \n",
    "    p = self.R(Y) * rho * T \n",
    "    \n",
    "    # Defining the coefficient of the system\n",
    "    A = 0.0\n",
    "    B = 0.0\n",
    "    C = []\n",
    "    D = - rho / u\n",
    "    E = - 1.0 / rho / u\n",
    "    F = p / rho**2\n",
    "    G = S / rho / u\n",
    "    for t in range(len(self.specie)):\n",
    "        A += rho * Y[t] * Ru / self.specie[t].mmol * 1.0 / cv\n",
    "        B += Y[t] * Ru / self.specie[t].mmol * T\n",
    "        C.append(rho * Ru / self.specie[t].mmol * T)\n",
    "    C = np.array(C)\n",
    "    \n",
    "    if debug:\n",
    "        print('Euler system R                                : ' + str(self.R(Y)))\n",
    "        print('Euler system rho_x            : ' + str(rho_x))\n",
    "        print('Euler system Y                : ' + str(Y))\n",
    "        print('Euler system Y_x              : ' + str(Y_x))\n",
    "        print('Euler system T                : ' + str(T))\n",
    "        print('Euler system rho              : ' + str(rho))\n",
    "        print('Euler system cv               : ' + str(cv))\n",
    "        print('Euler system e_x              : ' + str(e_x))\n",
    "        print('Euler system p                : ' + str(p))\n",
    "        print('Euler system Se               : ' + str(Se))    \n",
    "    \n",
    "    # Momentum equation\n",
    "    u_xc = (E * np.sum(C * G)) / (1 - E * A * D * F - E * B * D)\n",
    "    \n",
    "    # Mass equation\n",
    "    rho_xc  = D * u_xc\n",
    "    \n",
    "    # Energy equation\n",
    "    e_xc  = F * D * u_xc\n",
    "    \n",
    "    # Species equations\n",
    "    Y_xc  = G\n",
    "    \n",
    "    x_xc = [rho_xc]\n",
    "    x_xc.append(u_xc)\n",
    "    x_xc.append(e_xc)\n",
    "    \n",
    "    for i in Y_xc:\n",
    "        x_xc.append(i)\n",
    "    \n",
    "    \n",
    "    if debug:\n",
    "        print('Euler system x_x              : ' + str(x_x))\n",
    "        print('Euler system x_c              : ' + str(x_xc))\n",
    "        print('Euler system x_x - x_c        : ' + str(x_x - x_xc))\n",
    "        print('Euler system S                : ' + str(S))\n",
    "        print('Euler system Se               : ' + str(Se))\n",
    "        \n",
    "        \n",
    "    return   x_x - x_xc\n",
    "    \n",
    "def Euler_x(self, x_spatial, x):\n",
    "        \n",
    "        print('Solving for x = ' + str(x_spatial))\n",
    "        \n",
    "        \n",
    "        if debug:\n",
    "                print('State values  = ' + str(x))\n",
    "        \n",
    "        \n",
    "        x0 = [0, 0, 0]\n",
    "        \n",
    "        for i in self.specie:\n",
    "            x0.append(0)\n",
    "        \n",
    "        x0 = np.array(x0)\n",
    "        \n",
    "        x_x, infodict, ier, mesg = opt.fsolve(lambda x_x : self.Euler_system(x, x_x), \n",
    "                                            x0=x0,  \n",
    "                                            xtol=1e-12, full_output=1)\n",
    "        if not ier:\n",
    "            print('Euler_x did not converge')    \n",
    "        \n",
    "        if True:\n",
    "            print('x_x = ' + str(x_x))\n",
    "            print('ier = ' + str(ier))\n",
    "            \n",
    "            \n",
    "        return x_x\n",
    "    \n",
    "    \n",
    "problem.Euler_system = Euler_system\n",
    "problem.Euler_x = Euler_x"
   ]
  },
  {
   "cell_type": "markdown",
   "metadata": {},
   "source": [
    "### Euler system of equation and solve function, energy version"
   ]
  },
  {
   "cell_type": "raw",
   "metadata": {},
   "source": [
    "def Euler_x(self, x_spatial, x):\n",
    "        \n",
    "    print('Solving for x = ' + str(x_spatial))\n",
    "        \n",
    "        \n",
    "    if debug:\n",
    "            print('State values  = ' + str(x))\n",
    "        \n",
    "    rho, u, e = x[0], x[1], x[2]\n",
    "    Y = x[3:]\n",
    "    T = self.T_from_e(Y, e)\n",
    "    \n",
    "    e2, cv = self.energy( Y, T )\n",
    "    \n",
    "    S, Se = self.compute_Sy( rho, T, Y)\n",
    "    \n",
    "    p = self.R(Y) * rho * T \n",
    "        \n",
    "    # Defining the coefficient of the system\n",
    "    A = 0.0\n",
    "    B = 0.0\n",
    "    C = np.zeros(len(self.specie))\n",
    "    D = - rho / u\n",
    "    E = - 1.0 / rho / u\n",
    "    F = p / rho**2\n",
    "    G = S / rho / u\n",
    "    for t in range(len(self.specie)):\n",
    "        A += rho * Y[t] * Ru / self.specie[t].mmol * 1.0 / cv\n",
    "        B += Y[t] * Ru / self.specie[t].mmol * T\n",
    "        C[t] = rho * Ru / self.specie[t].mmol * T\n",
    "    \n",
    "    # Momentum equation\n",
    "    u_xc = (E * np.sum(C * G)) / (1 - E * A * D * F - E * B * D) ### CANCELLARE (c'è un - di troppo)\n",
    "    \n",
    "    # Mass equation\n",
    "    rho_xc  = D * u_xc\n",
    "    \n",
    "    # Energy equation\n",
    "    e_xc  = F * D * u_xc\n",
    "    \n",
    "    # Species equations\n",
    "    Y_xc  = G\n",
    "    \n",
    "    x_xc = [rho_xc]\n",
    "    x_xc.append(u_xc)\n",
    "    x_xc.append(e_xc)\n",
    "    \n",
    "    for i in Y_xc:\n",
    "        x_xc.append(i)\n",
    "           \n",
    "    if debug:\n",
    "        print('A  = ' + str(A))\n",
    "        print('B  = ' + str(B))\n",
    "        print('C  = ' + str(C))\n",
    "        print('D  = ' + str(D))\n",
    "        print('E  = ' + str(E))\n",
    "        print('F  = ' + str(F))\n",
    "        print('G  = ' + str(G))\n",
    "        print('T = ' + str(T))\n",
    "        print('cV = ' + str(cv))\n",
    "            \n",
    "    return x_xc\n",
    "\n",
    "problem.Euler_x = Euler_x"
   ]
  },
  {
   "cell_type": "markdown",
   "metadata": {},
   "source": [
    "### Solve function, energy version"
   ]
  },
  {
   "cell_type": "raw",
   "metadata": {},
   "source": [
    "def solve(self, xf = 10):\n",
    "    \n",
    "    # Compute post shock values to be used as initial conditions\n",
    "    self.RHjump()\n",
    "    \n",
    "    e1, cv1 = self.energy( self.Y0, self.T1 )\n",
    "    \n",
    "    y0 = [self.rho1, self.u1, e1]\n",
    "    \n",
    "    for i in self.Y0:\n",
    "        y0.append(i)\n",
    "    \n",
    "    sol = itg.solve_ivp(self.Euler_x, \n",
    "                              [0, xf], y0, method='BDF', t_eval=None, dense_output=False, \n",
    "                              events=None, vectorized=False, args=None, rtol=rtol, atol=atol)\n",
    "    \n",
    "    self.sol_rho, self.sol_u, self.sol_e, self.sol_Y = sol.y[0,:], sol.y[1,:], sol.y[2,:], sol.y[3:,:]\n",
    "    \n",
    "\n",
    "    self.sol_x = sol.t\n",
    "    self.sol = sol\n",
    "    \n",
    "    # Compute temperature\n",
    "    #T = []\n",
    "    #for i in range(len(self.sol_e)):\n",
    "        #T.append(self.T_from_e(self.sol_Y[:,i], self.sol_e[i], T0 = 1e3))\n",
    "    \n",
    "    T = np.zeros(len(self.sol_e))\n",
    "    p = np.zeros(np.shape(self.sol_e))\n",
    "    for i in range(len(self.sol_e)):\n",
    "        T[i] = self.T_from_e(self.sol_Y[:,i], self.sol_e[i], T0 = 1e3)\n",
    "        p[i] = self.sol_rho[i] * self.R(self.sol_Y[:,i]) * T[i]\n",
    "    \n",
    "    self.sol_T = T\n",
    "    self.sol_p = p    \n",
    "    \n",
    "problem.solve = solve"
   ]
  },
  {
   "cell_type": "markdown",
   "metadata": {},
   "source": [
    "## Temperature version"
   ]
  },
  {
   "cell_type": "markdown",
   "metadata": {},
   "source": [
    "### Euler system of equation and solve function, temperature version\n",
    "\n",
    "In this case the primary variables considered are density, velocity, mass fractions and temperature. \\\\\n",
    "\n",
    "The equations read:\n",
    "\n",
    "\n",
    "* Mass equation: <br />\n",
    "    $ \\frac{\\partial \\rho u}{\\partial x} = \\frac{\\partial \\rho}{\\partial x}u + \\rho \\frac{\\partial u}{\\partial x} = 0$ \n",
    "    \n",
    "    \n",
    "* Momentum equation: <br />\n",
    "    $ \\rho u \\frac{\\partial u}{\\partial x} = - \\frac{\\partial P}{\\partial x} $ <br>\n",
    "    Since $ P = P(\\rho, T, Y) = \\rho \\Sigma_i Y_i R T $ , then $ dp = \\frac{\\partial P}{\\partial \\rho} d \\rho + \\frac{\\partial P}{\\partial T} d T + \\Sigma_i \\frac{\\partial P}{\\partial Y_i} d Y_i $  <br>\n",
    "    The derivatives can be expressed as : <br>\n",
    "    - $ \\frac{\\partial P}{\\partial \\rho} = \\Sigma_i Y_i R_u T $ <br>\n",
    "    - $ \\frac{\\partial P}{\\partial T} = \\rho \\Sigma_i Y_i R_u$ <br>\n",
    "    - $ \\frac{\\partial P}{\\partial Y_i} = \\rho R_u T$ <br>\n",
    "    Hence, the momentum equation can be written as : <br>\n",
    "    $ \\rho u \\frac{\\partial u}{\\partial x} = - \\frac{\\partial P}{\\partial x} = \\Sigma_i Y_i R T \\frac{\\partial \\rho}{\\partial x} + \\rho \\Sigma_i Y_i R_u \\frac{\\partial T}{\\partial x} + \\rho R T \\Sigma_i \\frac{Y_i}{x}$    \n",
    "    \n",
    "* Energy equation: <br />\n",
    "    $ \\frac{\\partial e}{\\partial x} = \\frac{P}{\\rho^2} \\frac{\\partial \\rho}{\\partial x}$ <br>\n",
    "    In analogy with the pressure, we have $ e = e (T, Y_i) $, then $ de = \\frac{\\partial e }{\\partial T} dT + \\Sigma \\frac{\\partial e }{\\partial Y_i} dY_i$ <br>\n",
    "    The derivatives can be expressed as : <br>\n",
    "    - $ \\frac{\\partial e}{\\partial T} = cv(T, Y_i) $ <br>\n",
    "    - $ \\frac{\\partial e}{\\partial Y_i} = e_i(T) $ <br>\n",
    "    Hence, the energy equation can be written as : <br>\n",
    "    $ \\frac{\\partial T}{\\partial x} = \\frac{1}{cv} [ \\frac{P}{\\rho^2} \\frac{\\partial \\rho}{\\partial x} - \\Sigma_i e_i(T) \\frac{\\partialY_\n",
    "    \n",
    "* Species transport equation: <br />\n",
    "    $ \\rho u \\frac{\\partial Y_i }{\\partial x} = \\omega_i \\qquad for \\; i = 1 ... N_s $"
   ]
  },
  {
   "cell_type": "code",
   "execution_count": 15,
   "metadata": {
    "tags": []
   },
   "outputs": [],
   "source": [
    "# In this block one of the primary variables is temperature and not energy\n",
    "\n",
    "def Euler_system(self, x, x_x):\n",
    "    rho, u, T = x[0], x[1], x[2]\n",
    "    Y = x[3:]\n",
    "    rho_x, u_x, T_x = x_x[0], x_x[1], x_x[2]\n",
    "    Y_x = x_x[3:]\n",
    "    \n",
    "    \n",
    "    e2, cv = self.energy( Y, T )\n",
    "    e_Y    = self.e_Y( Y, T)\n",
    "    \n",
    "    # Manca Kb /mmol o sbaglio? o R magari          [OK]\n",
    "    ## p_x = np.sum(rho_x * Y  * Ru * T + rho * Y_x * T * Ru + rho * Y * Ru * T_x)\n",
    "    p_x = 0.0\n",
    "    ##p_x = (self.R(Y)*T*Y)* rho_x + (rho*self.R(Y)*Y)* T_x\n",
    "    for t in range(len(self.specie)):\n",
    "        p_x += rho_x * Y[t]  * Ru / self.specie[t].mmol * T + \\\n",
    "               rho * Y_x[t] * T * Ru / self.specie[t].mmol + \\\n",
    "               rho * Y[t] * Ru / self.specie[t].mmol * T_x\n",
    "        ##p_x += (rho*self.R(Y)*T)*Y_x[t]\n",
    "\n",
    "    if debug:\n",
    "        print('First term of the derivative p_x: '+ str(rho_x * Y  * Ru / self.specie[1].mmol * T))\n",
    "    \n",
    "    # p = self.R(Y) * rho * T \n",
    "    p = 0.0\n",
    "    for t in range(len(self.specie)):\n",
    "        p += rho * Y[t] * Ru / self.specie[t].mmol * T\n",
    "    \n",
    "    S, Se = self.compute_Sy(rho, T, Y)\n",
    "    \n",
    "    if debug:\n",
    "        print('Euler system R                                : ' + str(self.R(Y)))\n",
    "        print('Euler system rho_x            : ' + str(rho_x))\n",
    "        print('Euler system Y                : ' + str(Y))\n",
    "        print('Euler system Y_x              : ' + str(Y_x))\n",
    "        print('Euler system T                : ' + str(T))\n",
    "        print('Euler system rho              : ' + str(rho))\n",
    "        print('Euler system cv               : ' + str(cv))\n",
    "        print('Euler system T_x              : ' + str(T_x))\n",
    "        print('Euler system p                : ' + str(p))\n",
    "        print('Euler system Se               : ' + str(Se))\n",
    "\n",
    "    # Mass equation\n",
    "    rho_xc = - rho / u * u_x\n",
    "    \n",
    "    # Momentum equation\n",
    "    u_xc  = -  p_x / rho / u\n",
    "    \n",
    "    \n",
    "    # print('rho_x              : ' + str(rho_x))\n",
    "    # print('p                  : ' + str(p))\n",
    "    # print('rho                : ' + str(rho))\n",
    "    # print('e_Y                : ' + str(e_Y))\n",
    "    # print('Y_x                : ' + str(Y_x))\n",
    "    # print('sum(e_Y * Y_x)     : ' + str(np.sum(e_Y * Y_x)))\n",
    "    # print('cv                 : ' + str(cv))\n",
    "    # Energy equation\n",
    "    T_xc  = (p / rho ** 2 * rho_x - np.sum(e_Y * Y_x)) / cv\n",
    "    # print('T_xc              : ' + str(T_xc))\n",
    "\n",
    "    #e_xc  = p / rho ** 2 * rho_x + Se + rho * u_x + 1 / 2 * rho_x * u\n",
    "    \n",
    "    # Species equations\n",
    "    Y_xc  = S / rho / u\n",
    "    \n",
    "    x_xc = [rho_xc]\n",
    "    x_xc.append(u_xc)\n",
    "    x_xc.append(T_xc)\n",
    "    \n",
    "    for i in Y_xc:\n",
    "        x_xc.append(i)\n",
    "    \n",
    "    \n",
    "    if debug:\n",
    "        print('Euler system x_x              : ' + str(x_x))\n",
    "        print('Euler system x_c              : ' + str(x_xc))\n",
    "        print('Euler system x_x - x_c        : ' + str(x_x - x_xc))\n",
    "        print('Euler system S                : ' + str(S))\n",
    "        print('Euler system Se               : ' + str(Se))\n",
    "        \n",
    "        \n",
    "    return   x_x - x_xc\n",
    "    \n",
    "def Euler_x(self, x_spatial, x):\n",
    "        \n",
    "        print('A Solving for x = %.12e' %x_spatial, end=\"\")\n",
    "        print(\"\\r\", end=\"\")\n",
    "        \n",
    "        if debug:\n",
    "                print('State values  = ' + str(x))\n",
    "        \n",
    "        \n",
    "        x0 = [0.0, 0.0, 0.0]\n",
    "        \n",
    "        for i in self.specie:\n",
    "            x0.append(0)\n",
    "        \n",
    "        x0 = np.array(x0)\n",
    "        \n",
    "        x_x, infodict, ier, mesg = opt.fsolve(lambda x_x : self.Euler_system(x, x_x), \n",
    "                                            x0=x0,  \n",
    "                                            xtol=atol*1e-2, full_output=1)\n",
    "        if not ier:\n",
    "            print('Euler_x did not converge')    \n",
    "        \n",
    "        if debug:\n",
    "            # print('x_x = ' + str(x_x))\n",
    "            print('ier = ' + str(ier))\n",
    "            \n",
    "        \n",
    "        return x_x\n",
    "    \n",
    "    \n",
    "problem.Euler_system = Euler_system\n",
    "problem.Euler_x = Euler_x"
   ]
  },
  {
   "cell_type": "markdown",
   "metadata": {},
   "source": [
    "### Solve, temperature version"
   ]
  },
  {
   "cell_type": "code",
   "execution_count": 16,
   "metadata": {
    "tags": []
   },
   "outputs": [],
   "source": [
    "def solve(self, xf = 1):\n",
    "    \n",
    "    # Compute post shock values to be used as initial conditions\n",
    "    self.RHjump()\n",
    "    \n",
    "    y0 = [self.rho1, self.u1, self.T1]\n",
    "    \n",
    "    for i in self.Y0:\n",
    "        y0.append(i)\n",
    "    \n",
    "    sol = itg.solve_ivp(self.Euler_x, \n",
    "                              [0.0, xf], y0, method='BDF', t_eval=None, dense_output=True, first_step=self.mfp / 1e5,\n",
    "                              events=None, vectorized=False, args=None, rtol=rtol*1e-3, atol=atol)\n",
    "    \n",
    "    self.sol_rho, self.sol_u, self.sol_T, self.sol_Y = sol.y[0,:], sol.y[1,:], sol.y[2,:], sol.y[3:,:]\n",
    "\n",
    "    self.sol_x = sol.t\n",
    "    self.sol = sol\n",
    "    \n",
    "    # Compute energy\n",
    "    e = np.zeros(np.shape(self.sol_T))\n",
    "    p = np.zeros(np.shape(self.sol_T))\n",
    "    \n",
    "    for i in range(len(self.sol_T)):\n",
    "        e[i] = self.only_e(self.sol_Y[:,i], self.sol_T[i])\n",
    "        p[i] = self.sol_rho[i] * self.R(self.sol_Y[:,i]) * self.sol_T[i]\n",
    "        \n",
    "    self.sol_e = e\n",
    "    self.sol_p = p\n",
    "    \n",
    "problem.solve = solve"
   ]
  },
  {
   "cell_type": "markdown",
   "metadata": {},
   "source": [
    "## Matte version CANCELLARE"
   ]
  },
  {
   "cell_type": "markdown",
   "metadata": {},
   "source": [
    "### Euler equations"
   ]
  },
  {
   "cell_type": "raw",
   "metadata": {},
   "source": [
    "# CANCELLARE\n",
    "# In this block one of the primary variables is temperature and not energy\n",
    "\n",
    "def Euler_system(self, x, x_x):\n",
    "    rho, u, T = x[0], x[1], x[2]\n",
    "    Y = x[3:]\n",
    "    rho_x, u_x, T_x = x_x[0], x_x[1], x_x[2]\n",
    "    Y_x = x_x[3:]\n",
    "    \n",
    "    \n",
    "    e2, cv = self.energy( Y, T )\n",
    "    e_Y    = self.e_Y( Y, T)\n",
    "    \n",
    "    # Manca Kb /mmol o sbaglio? o R magari          [OK]\n",
    "    ## p_x = np.sum(rho_x * Y  * Ru * T + rho * Y_x * T * Ru + rho * Y * Ru * T_x)\n",
    "    p_x = 0.0\n",
    "    ##p_x = (self.R(Y)*T*Y)* rho_x + (rho*self.R(Y)*Y)* T_x\n",
    "    for t in range(len(self.specie)):\n",
    "        p_x += rho_x * Y[t]  * Ru / self.specie[t].mmol * T + \\\n",
    "               rho * Y_x[t] * T * Ru / self.specie[t].mmol + \\\n",
    "               rho * Y[t] * Ru / self.specie[t].mmol * T_x\n",
    "    \n",
    "    p_Y = np.zeros(np.size((self.specie)))\n",
    "    for t in range(len(self.specie)):\n",
    "        p_Y[t] = rho * Ru / self.specie[t].mmol * T\n",
    "        \n",
    "    if debug:\n",
    "        print('First term of the derivative p_x: '+ str(rho_x * Y  * Ru / self.specie[1].mmol * T))\n",
    "    \n",
    "    p = self.R(Y) * rho * T  \n",
    "    \n",
    "    S, Se = self.compute_Sy(rho, T, Y)\n",
    "    \n",
    "    if debug:\n",
    "        print('Euler system R                                : ' + str(self.R(Y)))\n",
    "        print('Euler system rho_x            : ' + str(rho_x))\n",
    "        print('Euler system Y                : ' + str(Y))\n",
    "        print('Euler system Y_x              : ' + str(Y_x))\n",
    "        print('Euler system T                : ' + str(T))\n",
    "        print('Euler system rho              : ' + str(rho))\n",
    "        print('Euler system cv               : ' + str(cv))\n",
    "        print('Euler system T_x              : ' + str(T_x))\n",
    "        print('Euler system p                : ' + str(p))\n",
    "        print('Euler system Se               : ' + str(Se))\n",
    "        print('p_Y           : ')\n",
    "        print(p_Y)\n",
    "        print('Y_x           : ')\n",
    "        print(Y_x)\n",
    "        print('p_Y * Y_x     : ')\n",
    "        print(p_Y * Y_x)\n",
    "        print('sum p_Y * Y_x : ')\n",
    "        print(np.sum(p_Y * Y_x))\n",
    "        print('np.sum(p_Y * Y_x + rho * self.R(Y) / cv * self.e_Y(Y,T) * Y_x) ) : ')\n",
    "        print(np.sum(p_Y * Y_x + rho * self.R(Y) / cv * self.e_Y(Y,T) * Y_x) )\n",
    "    \n",
    "\n",
    "    # Mass equation\n",
    "    rho_xc = - rho / u * u_x\n",
    "    \n",
    "    # Momentum equation\n",
    "    u_xc  = - ( np.sum(p_Y * Y_x + \\\n",
    "               rho * self.R(Y) / cv * self.e_Y(Y,T) * Y_x) ) / \\\n",
    "            ( rho * u - rho / u * self.R(Y) * T \\\n",
    "            - p  / u * self.R(Y) / cv )\n",
    "    \n",
    "    # Energy equation\n",
    "    T_xc  = ( p / rho ** 2 * rho_x - \\\n",
    "             np.sum(self.e_Y(Y,T) * Y_x) ) / cv\n",
    "    \n",
    "    # Species equations\n",
    "    Y_xc  = S / rho / u\n",
    "    \n",
    "    x_xc = [rho_xc]\n",
    "    x_xc.append(u_xc)\n",
    "    x_xc.append(T_xc)\n",
    "    \n",
    "    for i in Y_xc:\n",
    "        x_xc.append(i)\n",
    "    \n",
    "    \n",
    "    if debug:\n",
    "        print('Euler system x_x              : ' + str(x_x))\n",
    "        print('Euler system x_c              : ' + str(x_xc))\n",
    "        print('Euler system x_x - x_c        : ' + str(x_x - x_xc))\n",
    "        print('Euler system S                : ' + str(S))\n",
    "        print('Euler system Se               : ' + str(Se))\n",
    "        \n",
    "        \n",
    "    return   x_x - x_xc\n",
    "    \n",
    "def Euler_x(self, x_spatial, x):\n",
    "        \n",
    "        print('Solving for x = %.12e' %x_spatial)\n",
    "        \n",
    "        \n",
    "        if debug:\n",
    "                print('State values  = ' + str(x))\n",
    "        \n",
    "        \n",
    "        x0 = [0.0, 0.0, 0.0]\n",
    "        \n",
    "        for i in self.specie:\n",
    "            x0.append(0)\n",
    "        \n",
    "        x0 = np.array(x0)\n",
    "        \n",
    "        x_x, infodict, ier, mesg = opt.fsolve(lambda x_x : self.Euler_system(x, x_x), \n",
    "                                            x0=x0,  \n",
    "                                            xtol=atol*1e-2, full_output=1)\n",
    "        if not ier:\n",
    "            print('Euler_x did not converge')    \n",
    "        \n",
    "        if debug:\n",
    "            # print('x_x = ' + str(x_x))\n",
    "            print('ier = ' + str(ier))\n",
    "            \n",
    "            \n",
    "        return x_x\n",
    "    \n",
    "    \n",
    "problem.Euler_system = Euler_system\n",
    "problem.Euler_x = Euler_x"
   ]
  },
  {
   "cell_type": "markdown",
   "metadata": {},
   "source": [
    "### Solve system"
   ]
  },
  {
   "cell_type": "raw",
   "metadata": {},
   "source": [
    "def solve(self, xf = 1):\n",
    "    \n",
    "    # Compute post shock values to be used as initial conditions\n",
    "    self.RHjump()\n",
    "    \n",
    "    y0 = [self.rho1, self.u1, self.T1]\n",
    "    \n",
    "    for i in self.Y0:\n",
    "        y0.append(i)\n",
    "    \n",
    "    sol = itg.solve_ivp(self.Euler_x, \n",
    "                              [0.0, xf], y0, method='BDF', t_eval=None, dense_output=True, first_step=self.mfp / 1e2,\n",
    "                              events=None, vectorized=False, args=None, rtol=rtol, atol=atol)\n",
    "    \n",
    "    self.sol_rho, self.sol_u, self.sol_T, self.sol_Y = sol.y[0,:], sol.y[1,:], sol.y[2,:], sol.y[3:,:]\n",
    "\n",
    "    self.sol_x = sol.t\n",
    "    self.sol = sol\n",
    "    \n",
    "    # Compute energy\n",
    "    e = np.zeros(np.shape(self.sol_T))\n",
    "    p = np.zeros(np.shape(self.sol_T))\n",
    "    \n",
    "    for i in range(len(self.sol_T)):\n",
    "        e[i] = self.only_e(self.sol_Y[:,i], self.sol_T[i])\n",
    "        p[i] = self.sol_rho[i] * self.R(self.sol_Y[:,i]) * self.sol_T[i]\n",
    "        \n",
    "    self.sol_e = e\n",
    "    self.sol_p = p\n",
    "    \n",
    "problem.solve = solve"
   ]
  },
  {
   "cell_type": "markdown",
   "metadata": {},
   "source": [
    "# Plot"
   ]
  },
  {
   "cell_type": "code",
   "execution_count": 17,
   "metadata": {},
   "outputs": [],
   "source": [
    "def plot_T(self, ax = None, xmax = None, xmax_l = None, ls='-'):\n",
    "    # Set axes\n",
    "    \n",
    "    if ax == None:\n",
    "        ax = plt.axes()\n",
    "    \n",
    "    # Set xmax\n",
    "    \n",
    "    if not xmax:\n",
    "        if xmax_l:\n",
    "            xmax = xmax_l * self.mfp\n",
    "            \n",
    "        else: xmax = self.sol_x[-1]\n",
    "        \n",
    "    x_lambda = self.sol_x / self.mfp\n",
    "    \n",
    "    ax.plot(self.sol_x, self.sol_T, ls)\n",
    "\n",
    "    \n",
    "    # Add second x axis \n",
    "    \n",
    "    ax2 = ax.twiny()\n",
    "    \n",
    "    ax2.plot(x_lambda, self.sol_T, ls)\n",
    "\n",
    "    \n",
    "    # Set labels etc.\n",
    "    #ax.set_ylim(bottom = 0)\n",
    "    ax.set_xlim(0, xmax)\n",
    "    ax2.set_xlim(0, xmax / self.mfp)\n",
    "    \n",
    "    ax.set_xlabel('x [m]')\n",
    "    ax2.set_xlabel('x / mfp [-]')\n",
    "    ax.set_ylabel('T [K]')\n",
    "    ax2.grid()\n",
    "    ax.yaxis.grid(True)\n",
    "    \n",
    "def plot_rho(self, ax = None, xmax = None, xmax_l = None, ls='-'):\n",
    "    # Set axes\n",
    "    \n",
    "    if ax == None:\n",
    "        ax = plt.axes()\n",
    "    \n",
    "    # Set xmax\n",
    "    \n",
    "    if not xmax:\n",
    "        if xmax_l:\n",
    "            xmax = xmax_l * self.mfp\n",
    "            \n",
    "        else: xmax = self.sol_x[-1]\n",
    "        \n",
    "    x_lambda = self.sol_x / self.mfp\n",
    "    \n",
    "    ax.plot(self.sol_x, self.sol_rho, ls)\n",
    "\n",
    "    \n",
    "    # Add second x axis \n",
    "    \n",
    "    ax2 = ax.twiny()\n",
    "    \n",
    "    ax2.plot(x_lambda, self.sol_rho, ls)\n",
    "\n",
    "    \n",
    "    # Set labels etc.\n",
    "    ax.set_xlim(0, xmax)\n",
    "    ax2.set_xlim(0, xmax / self.mfp)\n",
    "    \n",
    "    ax.set_xlabel('x [m]')\n",
    "    ax2.set_xlabel('x / mfp [-]')\n",
    "    ax.set_ylabel('rho [Kg/m3]')\n",
    "    \n",
    "    ax2.grid()\n",
    "    ax.yaxis.grid(True)\n",
    "    \n",
    "def plot_u(self, ax = None, xmax = None, xmax_l = None, ls='-'):\n",
    "    # Set axes\n",
    "    \n",
    "    if ax == None:\n",
    "        ax = plt.axes()\n",
    "    \n",
    "    # Set xmax\n",
    "    \n",
    "    if not xmax:\n",
    "        if xmax_l:\n",
    "            xmax = xmax_l * self.mfp\n",
    "            \n",
    "        else: xmax = self.sol_x[-1]\n",
    "        \n",
    "    x_lambda = self.sol_x / self.mfp\n",
    "    \n",
    "    ax.plot(self.sol_x, self.sol_u, ls)\n",
    "\n",
    "    \n",
    "    # Add second x axis \n",
    "    \n",
    "    ax2 = ax.twiny()\n",
    "    \n",
    "    ax2.plot(x_lambda, self.sol_u, ls)\n",
    "\n",
    "    \n",
    "    # Set labels etc.\n",
    "    ax.set_xlim(0, xmax)\n",
    "    ax2.set_xlim(0, xmax / self.mfp)\n",
    "    \n",
    "    ax.set_xlabel('x [m]')\n",
    "    ax2.set_xlabel('x / mfp [-]')\n",
    "    ax.set_ylabel('Velocity [m/s]')\n",
    "    \n",
    "    ax2.grid()\n",
    "    ax.yaxis.grid(True)\n",
    "\n",
    "def plot_Y(self, ax = None, xmax = None, xmax_l = None, ls = '-'):\n",
    "    # Set axes\n",
    "    \n",
    "    if ax == None:\n",
    "        ax = plt.axes()\n",
    "    \n",
    "    # Set xmax\n",
    "    \n",
    "    if not xmax:\n",
    "        if xmax_l:\n",
    "            xmax = xmax_l * self.mfp\n",
    "            \n",
    "        else: xmax = self.sol_x[-1]\n",
    "        \n",
    "    x_lambda = self.sol_x / self.mfp\n",
    "    \n",
    "    ax.plot(self.sol_x, np.transpose(self.sol_Y), ls)\n",
    "\n",
    "    \n",
    "    # Add second x axis \n",
    "    \n",
    "    ax2 = ax.twiny()\n",
    "        \n",
    "    ax2.plot(x_lambda, np.transpose(self.sol_Y), ls)\n",
    "\n",
    "\n",
    "    # Set labels etc.\n",
    "    ax.set_xlim(0, xmax)\n",
    "    #ax.set_ylim(bottom = 0)\n",
    "    ax2.set_xlim(0, xmax / self.mfp)\n",
    "\n",
    "    \n",
    "    ax.set_xlabel('x [m]')\n",
    "    ax2.set_xlabel('x / reference mfp [-]')\n",
    "    ax.set_ylabel('Mass fractions')\n",
    "    \n",
    "    label = []\n",
    "    for i in self.specie:\n",
    "        label.append(i.name)\n",
    "        \n",
    "    ax.legend(label)\n",
    "    \n",
    "    ax2.grid()\n",
    "    ax.yaxis.grid(True)\n",
    "\n",
    "def logplot_Y(self, ax = None, xmax = None, xmax_l = None, ls = '-'):\n",
    "    # Set axes\n",
    "    \n",
    "    if ax == None:\n",
    "        ax = plt.axes()\n",
    "    \n",
    "    # Set xmax\n",
    "    \n",
    "    if not xmax:\n",
    "        if xmax_l:\n",
    "            xmax = xmax_l * self.mfp\n",
    "            \n",
    "        else: xmax = self.sol_x[-1]\n",
    "        \n",
    "    x_lambda = self.sol_x / self.mfp\n",
    "    \n",
    "    ax.semilogy(self.sol_x, np.transpose(self.sol_Y), ls)\n",
    "\n",
    "    \n",
    "    # Add second x axis \n",
    "    \n",
    "    ax2 = ax.twiny()\n",
    "        \n",
    "    ax2.semilogy(x_lambda, np.transpose(self.sol_Y), ls)\n",
    "\n",
    "\n",
    "    # Set labels etc.\n",
    "    ax.set_xlim(0, xmax)\n",
    "    #ax.set_ylim(bottom = 0)\n",
    "    ax2.set_xlim(0, xmax / self.mfp)\n",
    "    ax.set_ylim(1e-5,1)\n",
    "    ax2.set_ylim(1e-5,1)\n",
    "\n",
    "    \n",
    "    ax.set_xlabel('x [m]')\n",
    "    ax2.set_xlabel('x / reference mfp [-]')\n",
    "    ax.set_ylabel('Mass fractions')\n",
    "    \n",
    "    label = []\n",
    "    for i in self.specie:\n",
    "        label.append(i.name)\n",
    "        \n",
    "    ax.legend(label)\n",
    "    \n",
    "    ax2.grid()\n",
    "    ax.yaxis.grid(True)\n",
    "\n",
    "def validate(self, xmax = None, xmax_l = None, ls = '-', print_max = True):\n",
    "    '''For validation purpuses, the fluxes of conserved values are plotted as a function of x'''\n",
    "    # Set xmax\n",
    "    \n",
    "    if not xmax:\n",
    "        if xmax_l:\n",
    "            xmax = xmax_l * self.mfp\n",
    "            \n",
    "        else: xmax = self.sol_x[-1]\n",
    "        \n",
    "    x_lambda = self.sol_x / self.mfp\n",
    "    \n",
    "    # Compute and plot mass flux\n",
    "\n",
    "    subaxes_mass       = plt.subplot(5, 1, 1)\n",
    "    mass_flux = self.sol_rho * self.sol_u\n",
    "    error_mass_flux = ( mass_flux - mass_flux[0] ) / mass_flux[0]\n",
    "    subaxes_mass.plot(self.sol_x, error_mass_flux, ls)\n",
    "    \n",
    "    subaxes_mass2 = subaxes_mass.twiny()\n",
    "    subaxes_mass2.plot(x_lambda, error_mass_flux, ls)\n",
    "    \n",
    "    # Set labels etc.\n",
    "    subaxes_mass.set_xlim(0, xmax)\n",
    "    subaxes_mass2.set_xlim(0, xmax / self.mfp)\n",
    "    subaxes_mass.set_xlabel('x [m]')\n",
    "    subaxes_mass2.set_xlabel('x / reference mfp [-]')\n",
    "    subaxes_mass.set_ylabel('Mass flux [Kg/s]')\n",
    "    subaxes_mass2.grid()\n",
    "    subaxes_mass.yaxis.grid(True)\n",
    "    \n",
    "    # Compute and plot momentum flux\n",
    "    subaxes_momentum   = plt.subplot(5, 1, 2)\n",
    "    momentum_flux = self.sol_rho * self.sol_u ** 2 + self.sol_p \n",
    "    error_momentum_flux = ( momentum_flux - momentum_flux[0] ) / momentum_flux[0]\n",
    "    subaxes_momentum.plot(self.sol_x, error_momentum_flux, ls)\n",
    "    \n",
    "    subaxes_momentum2 = subaxes_momentum.twiny()\n",
    "    subaxes_momentum2.plot(x_lambda, error_momentum_flux, ls)\n",
    "    \n",
    "    # Set labels etc.\n",
    "    subaxes_momentum.set_xlim(0, xmax)\n",
    "    subaxes_momentum2.set_xlim(0, xmax / self.mfp)\n",
    "    subaxes_momentum.set_xlabel('x [m]')\n",
    "    subaxes_momentum2.set_xlabel('x / reference mfp [-]')\n",
    "    subaxes_momentum.set_ylabel('Momentum flux [Pa * m / s]')  # CANCELLARE controllare unità di misura o toglierle\n",
    "    subaxes_momentum2.grid()\n",
    "    subaxes_momentum.yaxis.grid(True)\n",
    "    \n",
    "    # Compute and plot total enthalpy flux\n",
    "    subaxes_enthalpy     = plt.subplot(5, 1, 3)\n",
    "    enthalpy_flux = (self.sol_rho * ( self.sol_e + 1 / 2 * self.sol_u ** 2 ) + self.sol_p) * self.sol_u \n",
    "    error_enthalpy_flux = ( enthalpy_flux - enthalpy_flux[0] ) / enthalpy_flux[0]\n",
    "    subaxes_enthalpy.plot(self.sol_x, error_enthalpy_flux, ls)\n",
    "    \n",
    "    subaxes_enthalpy2 = subaxes_enthalpy.twiny()\n",
    "    subaxes_enthalpy2.plot(x_lambda, error_enthalpy_flux, ls)\n",
    "    \n",
    "    # Set labels etc.\n",
    "    subaxes_enthalpy.set_xlim(0, xmax)\n",
    "    subaxes_enthalpy2.set_xlim(0, xmax / self.mfp)\n",
    "    subaxes_enthalpy.set_xlabel('x [m]')\n",
    "    subaxes_enthalpy2.set_xlabel('x / reference mfp [-]')\n",
    "    subaxes_enthalpy.set_ylabel('enthalpy flux [J/ms]') # CANCELLARE controllare unità di misura o toglierle\n",
    "    subaxes_enthalpy2.grid()\n",
    "    subaxes_enthalpy.yaxis.grid(True)\n",
    "    \n",
    "#     # Compute and plot energy flux\n",
    "#     subaxes_energy     = plt.subplot(5, 1, 4)\n",
    "#     energy_flux = (self.sol_rho * ( self.sol_e + 1 / 2 * self.sol_u ** 2 )) * self.sol_u \n",
    "#     error_energy_flux = ( energy_flux - energy_flux[0] ) / energy_flux[0]\n",
    "#     subaxes_energy.plot(self.sol_x, error_energy_flux, ls)\n",
    "    \n",
    "#     subaxes_energy2 = subaxes_energy.twiny()\n",
    "#     subaxes_energy2.plot(x_lambda, error_energy_flux, ls)\n",
    "    \n",
    "#     # Set labels etc.\n",
    "#     subaxes_energy.set_xlim(0, xmax)\n",
    "#     subaxes_energy2.set_xlim(0, xmax / self.mfp)\n",
    "#     subaxes_energy.set_xlabel('x [m]')\n",
    "#     subaxes_energy2.set_xlabel('x / reference mfp [-]')\n",
    "#     subaxes_energy.set_ylabel('Energy flux [J/ms]') # CANCELLARE controllare unità di misura o toglierle\n",
    "#     subaxes_energy2.grid()\n",
    "#     subaxes_energy.yaxis.grid(True)\n",
    "    \n",
    "    # Compute and plot sum of mass fractions\n",
    "    subaxes_mass_frac     = plt.subplot(5, 1, 5)\n",
    "    mass_frac_flux = np.sum(self.sol_Y,axis=0) \n",
    "    error_mass_frac_flux = ( mass_frac_flux - mass_frac_flux[0] ) / mass_frac_flux[0]\n",
    "    subaxes_mass_frac.plot(self.sol_x, error_mass_frac_flux, ls)\n",
    "    \n",
    "    subaxes_mass_frac2 = subaxes_mass_frac.twiny()\n",
    "    subaxes_mass_frac2.plot(x_lambda, error_mass_frac_flux, ls)\n",
    "    \n",
    "    # Set labels etc.\n",
    "    subaxes_mass_frac.set_xlim(0, xmax)\n",
    "    subaxes_mass_frac2.set_xlim(0, xmax / self.mfp)\n",
    "    subaxes_mass_frac.set_xlabel('x [m]')\n",
    "    subaxes_mass_frac2.set_xlabel('x / reference mfp [-]')\n",
    "    subaxes_mass_frac.set_ylabel('Sum of mass fractions [-]') \n",
    "    subaxes_mass_frac2.grid()\n",
    "    subaxes_mass_frac.yaxis.grid(True)\n",
    "    \n",
    "    if print_max:\n",
    "        print('Maximum mass flux error       : ' + str(np.max(np.abs(error_mass_flux))))\n",
    "        print('Maximum momentum flux error   : ' + str(np.max(np.abs(error_momentum_flux))))\n",
    "        print('Maximum enthalpy flux error   : ' + str(np.max(np.abs(error_enthalpy_flux))))\n",
    "        # print('Maximum energy flux error     : ' + str(np.max(np.abs(error_energy_flux))))\n",
    "        print('Maximum mass frac error       : ' + str(np.max(np.abs(error_mass_frac_flux))))\n",
    "        print('Last value of mass flux       : ' + str(mass_flux[-1]))\n",
    "        print('Ymin                          : ' + str(np.min(self.sol_Y)))\n",
    "    \n",
    "problem.plot_T = plot_T\n",
    "problem.plot_rho = plot_rho\n",
    "problem.plot_u = plot_u\n",
    "problem.plot_Y = plot_Y\n",
    "problem.logplot_Y = logplot_Y\n",
    "problem.validate = validate"
   ]
  },
  {
   "cell_type": "markdown",
   "metadata": {},
   "source": [
    "# 11 specie problem"
   ]
  },
  {
   "cell_type": "code",
   "execution_count": 18,
   "metadata": {
    "tags": [
     "hide-output"
    ]
   },
   "outputs": [
    {
     "name": "stdout",
     "output_type": "stream",
     "text": [
      "Pre shock Mach : 16.000562605530575\n",
      "******************************\n",
      "Post-shock guess values:\n",
      "rho    : 0.0018226047541988338\n",
      "T      : 12530.13407323571\n",
      "Speed  : 860.1433724938996\n",
      "Mach   : 0.3817439471343904\n",
      "******************************\n",
      "Post-shock values:\n",
      "rho    : 0.0023988886158463254\n",
      "T      : 9986.617517088329\n",
      "Speed  : 653.5115426553153\n",
      "Mach   : 0.34284740141105646\n",
      "******************************\n",
      "Reference mean free path : 2.168525552716173e-05\n",
      "\n",
      "A Solving for x = 0.000000000000e+00\r",
      "A Solving for x = 0.000000000000e+00\r"
     ]
    },
    {
     "name": "stderr",
     "output_type": "stream",
     "text": [
      "/home/edoardo/.local/lib/python3.8/site-packages/scipy/integrate/_ivp/common.py:46: UserWarning: `rtol` is too low, setting to 2.220446049250313e-14\n",
      "  warn(\"`rtol` is too low, setting to {}\".format(100 * EPS))\n"
     ]
    },
    {
     "name": "stdout",
     "output_type": "stream",
     "text": [
      "A Solving for x = 0.000000000000e+00\r",
      "A Solving for x = 0.000000000000e+00\r",
      "A Solving for x = 0.000000000000e+00\r"
     ]
    },
    {
     "name": "stdout",
     "output_type": "stream",
     "text": [
      "A Solving for x = 0.000000000000e+00\r",
      "A Solving for x = 0.000000000000e+00\r"
     ]
    },
    {
     "name": "stdout",
     "output_type": "stream",
     "text": [
      "A Solving for x = 0.000000000000e+00\r",
      "A Solving for x = 0.000000000000e+00\r"
     ]
    },
    {
     "name": "stdout",
     "output_type": "stream",
     "text": [
      "A Solving for x = 0.000000000000e+00\r",
      "A Solving for x = 0.000000000000e+00\r",
      "A Solving for x = 0.000000000000e+00\r",
      "A Solving for x = 0.000000000000e+00\r"
     ]
    },
    {
     "name": "stdout",
     "output_type": "stream",
     "text": [
      "A Solving for x = 0.000000000000e+00\r",
      "A Solving for x = 0.000000000000e+00\r",
      "A Solving for x = 0.000000000000e+00\r"
     ]
    },
    {
     "name": "stdout",
     "output_type": "stream",
     "text": [
      "A Solving for x = 0.000000000000e+00\r",
      "A Solving for x = 0.000000000000e+00\r",
      "A Solving for x = 0.000000000000e+00\r",
      "A Solving for x = 0.000000000000e+00\r",
      "A Solving for x = 0.000000000000e+00\r",
      "A Solving for x = 0.000000000000e+00\r"
     ]
    },
    {
     "name": "stdout",
     "output_type": "stream",
     "text": [
      "A Solving for x = 0.000000000000e+00\r",
      "A Solving for x = 0.000000000000e+00\r",
      "A Solving for x = 2.168525552716e-10\r"
     ]
    },
    {
     "name": "stdout",
     "output_type": "stream",
     "text": [
      "A Solving for x = 2.168525552716e-10\r",
      "A Solving for x = 6.278879372486e-11\r"
     ]
    },
    {
     "name": "stdout",
     "output_type": "stream",
     "text": [
      "A Solving for x = 6.278879372486e-11\r",
      "A Solving for x = 1.255775874497e-10\r",
      "A Solving for x = 1.255775874497e-10\r"
     ]
    },
    {
     "name": "stdout",
     "output_type": "stream",
     "text": [
      "A Solving for x = 2.599714584412e-10\r",
      "A Solving for x = 2.599714584412e-10\r"
     ]
    },
    {
     "name": "stdout",
     "output_type": "stream",
     "text": [
      "A Solving for x = 3.943653294328e-10\r",
      "A Solving for x = 3.943653294328e-10\r"
     ]
    },
    {
     "name": "stdout",
     "output_type": "stream",
     "text": [
      "A Solving for x = 5.287592004243e-10\r",
      "A Solving for x = 5.287592004243e-10\r",
      "A Solving for x = 8.174435674818e-10\r",
      "A Solving for x = 8.174435674818e-10\r"
     ]
    },
    {
     "name": "stdout",
     "output_type": "stream",
     "text": [
      "A Solving for x = 1.106127934539e-09\r",
      "A Solving for x = 1.106127934539e-09\r"
     ]
    },
    {
     "name": "stdout",
     "output_type": "stream",
     "text": [
      "A Solving for x = 1.394812301597e-09\r",
      "A Solving for x = 1.394812301597e-09\r"
     ]
    },
    {
     "name": "stdout",
     "output_type": "stream",
     "text": [
      "A Solving for x = 1.683496668654e-09\r",
      "A Solving for x = 1.683496668654e-09\r",
      "A Solving for x = 2.526386571387e-09\r"
     ]
    },
    {
     "name": "stdout",
     "output_type": "stream",
     "text": [
      "A Solving for x = 2.526386571387e-09\r",
      "A Solving for x = 3.369276474120e-09\r"
     ]
    },
    {
     "name": "stdout",
     "output_type": "stream",
     "text": [
      "A Solving for x = 3.369276474120e-09\r",
      "A Solving for x = 4.212166376852e-09\r"
     ]
    },
    {
     "name": "stdout",
     "output_type": "stream",
     "text": [
      "A Solving for x = 4.212166376852e-09\r",
      "A Solving for x = 8.082920457881e-09\r",
      "A Solving for x = 8.082920457881e-09\r"
     ]
    },
    {
     "name": "stdout",
     "output_type": "stream",
     "text": [
      "A Solving for x = 1.195367453891e-08\r",
      "A Solving for x = 1.195367453891e-08\r",
      "A Solving for x = 1.582442861994e-08\r"
     ]
    },
    {
     "name": "stdout",
     "output_type": "stream",
     "text": [
      "A Solving for x = 1.582442861994e-08\r",
      "A Solving for x = 2.934725077330e-08\r",
      "A Solving for x = 2.934725077330e-08\r"
     ]
    },
    {
     "name": "stdout",
     "output_type": "stream",
     "text": [
      "A Solving for x = 4.287007292667e-08\r",
      "A Solving for x = 4.287007292667e-08\r",
      "A Solving for x = 5.639289508003e-08\r"
     ]
    },
    {
     "name": "stdout",
     "output_type": "stream",
     "text": [
      "A Solving for x = 5.639289508003e-08\r",
      "A Solving for x = 8.199624839263e-08\r"
     ]
    },
    {
     "name": "stdout",
     "output_type": "stream",
     "text": [
      "A Solving for x = 8.199624839263e-08\r",
      "A Solving for x = 1.075996017052e-07\r",
      "A Solving for x = 1.075996017052e-07\r",
      "A Solving for x = 1.332029550178e-07\r"
     ]
    },
    {
     "name": "stdout",
     "output_type": "stream",
     "text": [
      "A Solving for x = 1.332029550178e-07\r",
      "A Solving for x = 1.588063083304e-07\r"
     ]
    },
    {
     "name": "stdout",
     "output_type": "stream",
     "text": [
      "A Solving for x = 1.588063083304e-07\r",
      "A Solving for x = 2.222457798875e-07\r"
     ]
    },
    {
     "name": "stdout",
     "output_type": "stream",
     "text": [
      "A Solving for x = 2.222457798875e-07\r",
      "A Solving for x = 2.856852514446e-07\r"
     ]
    },
    {
     "name": "stdout",
     "output_type": "stream",
     "text": [
      "A Solving for x = 2.856852514446e-07\r",
      "A Solving for x = 3.491247230017e-07\r"
     ]
    },
    {
     "name": "stdout",
     "output_type": "stream",
     "text": [
      "A Solving for x = 3.491247230017e-07\r",
      "A Solving for x = 4.125641945587e-07\r",
      "A Solving for x = 4.125641945587e-07\r"
     ]
    },
    {
     "name": "stdout",
     "output_type": "stream",
     "text": [
      "A Solving for x = 6.041240338672e-07\r",
      "A Solving for x = 6.041240338672e-07\r"
     ]
    },
    {
     "name": "stdout",
     "output_type": "stream",
     "text": [
      "A Solving for x = 7.956838731757e-07\r",
      "A Solving for x = 7.956838731757e-07\r",
      "A Solving for x = 9.872437124842e-07\r"
     ]
    },
    {
     "name": "stdout",
     "output_type": "stream",
     "text": [
      "A Solving for x = 9.872437124842e-07\r",
      "A Solving for x = 1.178803551793e-06\r"
     ]
    },
    {
     "name": "stdout",
     "output_type": "stream",
     "text": [
      "A Solving for x = 1.178803551793e-06\r",
      "A Solving for x = 1.443373108249e-06\r"
     ]
    },
    {
     "name": "stdout",
     "output_type": "stream",
     "text": [
      "A Solving for x = 1.443373108249e-06\r",
      "A Solving for x = 1.707942664705e-06\r",
      "A Solving for x = 1.707942664705e-06\r"
     ]
    },
    {
     "name": "stdout",
     "output_type": "stream",
     "text": [
      "A Solving for x = 1.972512221161e-06\r",
      "A Solving for x = 1.972512221161e-06\r"
     ]
    },
    {
     "name": "stdout",
     "output_type": "stream",
     "text": [
      "A Solving for x = 2.237081777616e-06\r",
      "A Solving for x = 2.237081777616e-06\r"
     ]
    },
    {
     "name": "stdout",
     "output_type": "stream",
     "text": [
      "A Solving for x = 2.501651334072e-06\r",
      "A Solving for x = 2.501651334072e-06\r",
      "A Solving for x = 3.185638179608e-06\r"
     ]
    },
    {
     "name": "stdout",
     "output_type": "stream",
     "text": [
      "A Solving for x = 3.185638179608e-06\r",
      "A Solving for x = 3.869625025143e-06\r",
      "A Solving for x = 3.869625025143e-06\r"
     ]
    },
    {
     "name": "stdout",
     "output_type": "stream",
     "text": [
      "A Solving for x = 4.553611870679e-06\r"
     ]
    },
    {
     "name": "stdout",
     "output_type": "stream",
     "text": [
      "A Solving for x = 4.553611870679e-06\r",
      "A Solving for x = 5.237598716214e-06\r"
     ]
    },
    {
     "name": "stdout",
     "output_type": "stream",
     "text": [
      "A Solving for x = 5.237598716214e-06\r",
      "A Solving for x = 5.921585561750e-06\r"
     ]
    },
    {
     "name": "stdout",
     "output_type": "stream",
     "text": [
      "A Solving for x = 5.921585561750e-06\r",
      "A Solving for x = 6.742934246145e-06\r"
     ]
    },
    {
     "name": "stdout",
     "output_type": "stream",
     "text": [
      "A Solving for x = 6.742934246145e-06\r",
      "A Solving for x = 7.564282930540e-06\r"
     ]
    },
    {
     "name": "stdout",
     "output_type": "stream",
     "text": [
      "A Solving for x = 7.564282930540e-06\r",
      "A Solving for x = 8.385631614935e-06\r"
     ]
    },
    {
     "name": "stdout",
     "output_type": "stream",
     "text": [
      "A Solving for x = 8.385631614935e-06\r",
      "A Solving for x = 9.206980299330e-06\r"
     ]
    },
    {
     "name": "stdout",
     "output_type": "stream",
     "text": [
      "A Solving for x = 9.206980299330e-06\r",
      "A Solving for x = 1.002832898373e-05\r"
     ]
    },
    {
     "name": "stdout",
     "output_type": "stream",
     "text": [
      "A Solving for x = 1.002832898373e-05\r"
     ]
    },
    {
     "name": "stdout",
     "output_type": "stream",
     "text": [
      "A Solving for x = 1.084967766812e-05\r",
      "A Solving for x = 1.084967766812e-05\r",
      "A Solving for x = 1.225228799997e-05\r"
     ]
    },
    {
     "name": "stdout",
     "output_type": "stream",
     "text": [
      "A Solving for x = 1.225228799997e-05\r",
      "A Solving for x = 1.225228799997e-05\r",
      "A Solving for x = 1.225228799997e-05\r"
     ]
    },
    {
     "name": "stdout",
     "output_type": "stream",
     "text": [
      "A Solving for x = 1.225228799997e-05\r",
      "A Solving for x = 1.225228799997e-05\r",
      "A Solving for x = 1.225228799997e-05"
     ]
    },
    {
     "name": "stdout",
     "output_type": "stream",
     "text": [
      "\r",
      "A Solving for x = 1.225228799997e-05\r",
      "A Solving for x = 1.225228799997e-05\r"
     ]
    },
    {
     "name": "stdout",
     "output_type": "stream",
     "text": [
      "A Solving for x = 1.225228799997e-05\r",
      "A Solving for x = 1.225228799997e-05\r"
     ]
    },
    {
     "name": "stdout",
     "output_type": "stream",
     "text": [
      "A Solving for x = 1.225228799997e-05\r",
      "A Solving for x = 1.225228799997e-05\r"
     ]
    },
    {
     "name": "stdout",
     "output_type": "stream",
     "text": [
      "A Solving for x = 1.225228799997e-05\r",
      "A Solving for x = 1.225228799997e-05\r"
     ]
    },
    {
     "name": "stdout",
     "output_type": "stream",
     "text": [
      "A Solving for x = 1.225228799997e-05\r"
     ]
    },
    {
     "name": "stdout",
     "output_type": "stream",
     "text": [
      "A Solving for x = 1.225228799997e-05\r",
      "A Solving for x = 1.225228799997e-05\r",
      "A Solving for x = 1.225228799997e-05\r"
     ]
    },
    {
     "name": "stdout",
     "output_type": "stream",
     "text": [
      "A Solving for x = 1.225228799997e-05\r",
      "A Solving for x = 1.225228799997e-05\r"
     ]
    },
    {
     "name": "stdout",
     "output_type": "stream",
     "text": [
      "A Solving for x = 1.225228799997e-05\r",
      "A Solving for x = 1.225228799997e-05\r"
     ]
    },
    {
     "name": "stdout",
     "output_type": "stream",
     "text": [
      "A Solving for x = 1.365489833182e-05\r",
      "A Solving for x = 1.365489833182e-05\r"
     ]
    },
    {
     "name": "stdout",
     "output_type": "stream",
     "text": [
      "A Solving for x = 1.505750866367e-05\r",
      "A Solving for x = 1.505750866367e-05\r"
     ]
    },
    {
     "name": "stdout",
     "output_type": "stream",
     "text": [
      "A Solving for x = 1.646011899552e-05\r"
     ]
    },
    {
     "name": "stdout",
     "output_type": "stream",
     "text": [
      "A Solving for x = 1.646011899552e-05\r",
      "A Solving for x = 1.786272932737e-05\r",
      "A Solving for x = 1.786272932737e-05\r"
     ]
    },
    {
     "name": "stdout",
     "output_type": "stream",
     "text": [
      "A Solving for x = 1.926533965922e-05\r",
      "A Solving for x = 1.926533965922e-05\r"
     ]
    },
    {
     "name": "stdout",
     "output_type": "stream",
     "text": [
      "A Solving for x = 2.104455506031e-05\r",
      "A Solving for x = 2.104455506031e-05\r"
     ]
    },
    {
     "name": "stdout",
     "output_type": "stream",
     "text": [
      "A Solving for x = 2.282377046141e-05\r",
      "A Solving for x = 2.282377046141e-05\r",
      "A Solving for x = 2.460298586250e-05\r"
     ]
    },
    {
     "name": "stdout",
     "output_type": "stream",
     "text": [
      "A Solving for x = 2.460298586250e-05\r",
      "A Solving for x = 2.638220126359e-05\r",
      "A Solving for x = 2.638220126359e-05\r"
     ]
    },
    {
     "name": "stdout",
     "output_type": "stream",
     "text": [
      "A Solving for x = 2.816141666469e-05\r",
      "A Solving for x = 2.816141666469e-05\r",
      "A Solving for x = 2.994063206578e-05\r"
     ]
    },
    {
     "name": "stdout",
     "output_type": "stream",
     "text": [
      "A Solving for x = 2.994063206578e-05\r",
      "A Solving for x = 3.171378192733e-05\r"
     ]
    },
    {
     "name": "stdout",
     "output_type": "stream",
     "text": [
      "A Solving for x = 3.171378192733e-05\r",
      "A Solving for x = 3.348693178888e-05\r"
     ]
    },
    {
     "name": "stdout",
     "output_type": "stream",
     "text": [
      "A Solving for x = 3.348693178888e-05\r",
      "A Solving for x = 3.526008165043e-05\r"
     ]
    },
    {
     "name": "stdout",
     "output_type": "stream",
     "text": [
      "A Solving for x = 3.526008165043e-05\r",
      "A Solving for x = 3.703323151198e-05\r",
      "A Solving for x = 3.703323151198e-05\r"
     ]
    },
    {
     "name": "stdout",
     "output_type": "stream",
     "text": [
      "A Solving for x = 3.880638137353e-05\r",
      "A Solving for x = 3.880638137353e-05\r"
     ]
    },
    {
     "name": "stdout",
     "output_type": "stream",
     "text": [
      "A Solving for x = 4.057953123508e-05\r",
      "A Solving for x = 4.057953123508e-05\r"
     ]
    },
    {
     "ename": "KeyboardInterrupt",
     "evalue": "",
     "output_type": "error",
     "traceback": [
      "\u001b[0;31m---------------------------------------------------------------------------\u001b[0m",
      "\u001b[0;31mKeyboardInterrupt\u001b[0m                         Traceback (most recent call last)",
      "\u001b[0;32m/tmp/ipykernel_12461/109356891.py\u001b[0m in \u001b[0;36m<module>\u001b[0;34m\u001b[0m\n\u001b[1;32m     40\u001b[0m \u001b[0;34m\u001b[0m\u001b[0m\n\u001b[1;32m     41\u001b[0m \u001b[0;31m# Solve\u001b[0m\u001b[0;34m\u001b[0m\u001b[0;34m\u001b[0m\u001b[0;34m\u001b[0m\u001b[0m\n\u001b[0;32m---> 42\u001b[0;31m \u001b[0m_11specie\u001b[0m\u001b[0;34m.\u001b[0m\u001b[0msolve\u001b[0m\u001b[0;34m(\u001b[0m\u001b[0;34m)\u001b[0m\u001b[0;34m\u001b[0m\u001b[0;34m\u001b[0m\u001b[0m\n\u001b[0m",
      "\u001b[0;32m/tmp/ipykernel_12461/3187716142.py\u001b[0m in \u001b[0;36msolve\u001b[0;34m(self, xf)\u001b[0m\n\u001b[1;32m      9\u001b[0m         \u001b[0my0\u001b[0m\u001b[0;34m.\u001b[0m\u001b[0mappend\u001b[0m\u001b[0;34m(\u001b[0m\u001b[0mi\u001b[0m\u001b[0;34m)\u001b[0m\u001b[0;34m\u001b[0m\u001b[0;34m\u001b[0m\u001b[0m\n\u001b[1;32m     10\u001b[0m \u001b[0;34m\u001b[0m\u001b[0m\n\u001b[0;32m---> 11\u001b[0;31m     sol = itg.solve_ivp(self.Euler_x, \n\u001b[0m\u001b[1;32m     12\u001b[0m                               \u001b[0;34m[\u001b[0m\u001b[0;36m0.0\u001b[0m\u001b[0;34m,\u001b[0m \u001b[0mxf\u001b[0m\u001b[0;34m]\u001b[0m\u001b[0;34m,\u001b[0m \u001b[0my0\u001b[0m\u001b[0;34m,\u001b[0m \u001b[0mmethod\u001b[0m\u001b[0;34m=\u001b[0m\u001b[0;34m'BDF'\u001b[0m\u001b[0;34m,\u001b[0m \u001b[0mt_eval\u001b[0m\u001b[0;34m=\u001b[0m\u001b[0;32mNone\u001b[0m\u001b[0;34m,\u001b[0m \u001b[0mdense_output\u001b[0m\u001b[0;34m=\u001b[0m\u001b[0;32mTrue\u001b[0m\u001b[0;34m,\u001b[0m \u001b[0mfirst_step\u001b[0m\u001b[0;34m=\u001b[0m\u001b[0mself\u001b[0m\u001b[0;34m.\u001b[0m\u001b[0mmfp\u001b[0m \u001b[0;34m/\u001b[0m \u001b[0;36m1e5\u001b[0m\u001b[0;34m,\u001b[0m\u001b[0;34m\u001b[0m\u001b[0;34m\u001b[0m\u001b[0m\n\u001b[1;32m     13\u001b[0m                               events=None, vectorized=False, args=None, rtol=rtol*1e-3, atol=atol)\n",
      "\u001b[0;32m~/.local/lib/python3.8/site-packages/scipy/integrate/_ivp/ivp.py\u001b[0m in \u001b[0;36msolve_ivp\u001b[0;34m(fun, t_span, y0, method, t_eval, dense_output, events, vectorized, args, **options)\u001b[0m\n\u001b[1;32m    574\u001b[0m     \u001b[0mstatus\u001b[0m \u001b[0;34m=\u001b[0m \u001b[0;32mNone\u001b[0m\u001b[0;34m\u001b[0m\u001b[0;34m\u001b[0m\u001b[0m\n\u001b[1;32m    575\u001b[0m     \u001b[0;32mwhile\u001b[0m \u001b[0mstatus\u001b[0m \u001b[0;32mis\u001b[0m \u001b[0;32mNone\u001b[0m\u001b[0;34m:\u001b[0m\u001b[0;34m\u001b[0m\u001b[0;34m\u001b[0m\u001b[0m\n\u001b[0;32m--> 576\u001b[0;31m         \u001b[0mmessage\u001b[0m \u001b[0;34m=\u001b[0m \u001b[0msolver\u001b[0m\u001b[0;34m.\u001b[0m\u001b[0mstep\u001b[0m\u001b[0;34m(\u001b[0m\u001b[0;34m)\u001b[0m\u001b[0;34m\u001b[0m\u001b[0;34m\u001b[0m\u001b[0m\n\u001b[0m\u001b[1;32m    577\u001b[0m \u001b[0;34m\u001b[0m\u001b[0m\n\u001b[1;32m    578\u001b[0m         \u001b[0;32mif\u001b[0m \u001b[0msolver\u001b[0m\u001b[0;34m.\u001b[0m\u001b[0mstatus\u001b[0m \u001b[0;34m==\u001b[0m \u001b[0;34m'finished'\u001b[0m\u001b[0;34m:\u001b[0m\u001b[0;34m\u001b[0m\u001b[0;34m\u001b[0m\u001b[0m\n",
      "\u001b[0;32m~/.local/lib/python3.8/site-packages/scipy/integrate/_ivp/base.py\u001b[0m in \u001b[0;36mstep\u001b[0;34m(self)\u001b[0m\n\u001b[1;32m    179\u001b[0m         \u001b[0;32melse\u001b[0m\u001b[0;34m:\u001b[0m\u001b[0;34m\u001b[0m\u001b[0;34m\u001b[0m\u001b[0m\n\u001b[1;32m    180\u001b[0m             \u001b[0mt\u001b[0m \u001b[0;34m=\u001b[0m \u001b[0mself\u001b[0m\u001b[0;34m.\u001b[0m\u001b[0mt\u001b[0m\u001b[0;34m\u001b[0m\u001b[0;34m\u001b[0m\u001b[0m\n\u001b[0;32m--> 181\u001b[0;31m             \u001b[0msuccess\u001b[0m\u001b[0;34m,\u001b[0m \u001b[0mmessage\u001b[0m \u001b[0;34m=\u001b[0m \u001b[0mself\u001b[0m\u001b[0;34m.\u001b[0m\u001b[0m_step_impl\u001b[0m\u001b[0;34m(\u001b[0m\u001b[0;34m)\u001b[0m\u001b[0;34m\u001b[0m\u001b[0;34m\u001b[0m\u001b[0m\n\u001b[0m\u001b[1;32m    182\u001b[0m \u001b[0;34m\u001b[0m\u001b[0m\n\u001b[1;32m    183\u001b[0m             \u001b[0;32mif\u001b[0m \u001b[0;32mnot\u001b[0m \u001b[0msuccess\u001b[0m\u001b[0;34m:\u001b[0m\u001b[0;34m\u001b[0m\u001b[0;34m\u001b[0m\u001b[0m\n",
      "\u001b[0;32m~/.local/lib/python3.8/site-packages/scipy/integrate/_ivp/bdf.py\u001b[0m in \u001b[0;36m_step_impl\u001b[0;34m(self)\u001b[0m\n\u001b[1;32m    351\u001b[0m                     \u001b[0mLU\u001b[0m \u001b[0;34m=\u001b[0m \u001b[0mself\u001b[0m\u001b[0;34m.\u001b[0m\u001b[0mlu\u001b[0m\u001b[0;34m(\u001b[0m\u001b[0mself\u001b[0m\u001b[0;34m.\u001b[0m\u001b[0mI\u001b[0m \u001b[0;34m-\u001b[0m \u001b[0mc\u001b[0m \u001b[0;34m*\u001b[0m \u001b[0mJ\u001b[0m\u001b[0;34m)\u001b[0m\u001b[0;34m\u001b[0m\u001b[0;34m\u001b[0m\u001b[0m\n\u001b[1;32m    352\u001b[0m \u001b[0;34m\u001b[0m\u001b[0m\n\u001b[0;32m--> 353\u001b[0;31m                 converged, n_iter, y_new, d = solve_bdf_system(\n\u001b[0m\u001b[1;32m    354\u001b[0m                     \u001b[0mself\u001b[0m\u001b[0;34m.\u001b[0m\u001b[0mfun\u001b[0m\u001b[0;34m,\u001b[0m \u001b[0mt_new\u001b[0m\u001b[0;34m,\u001b[0m \u001b[0my_predict\u001b[0m\u001b[0;34m,\u001b[0m \u001b[0mc\u001b[0m\u001b[0;34m,\u001b[0m \u001b[0mpsi\u001b[0m\u001b[0;34m,\u001b[0m \u001b[0mLU\u001b[0m\u001b[0;34m,\u001b[0m \u001b[0mself\u001b[0m\u001b[0;34m.\u001b[0m\u001b[0msolve_lu\u001b[0m\u001b[0;34m,\u001b[0m\u001b[0;34m\u001b[0m\u001b[0;34m\u001b[0m\u001b[0m\n\u001b[1;32m    355\u001b[0m                     scale, self.newton_tol)\n",
      "\u001b[0;32m~/.local/lib/python3.8/site-packages/scipy/integrate/_ivp/bdf.py\u001b[0m in \u001b[0;36msolve_bdf_system\u001b[0;34m(fun, t_new, y_predict, c, psi, LU, solve_lu, scale, tol)\u001b[0m\n\u001b[1;32m     41\u001b[0m     \u001b[0mconverged\u001b[0m \u001b[0;34m=\u001b[0m \u001b[0;32mFalse\u001b[0m\u001b[0;34m\u001b[0m\u001b[0;34m\u001b[0m\u001b[0m\n\u001b[1;32m     42\u001b[0m     \u001b[0;32mfor\u001b[0m \u001b[0mk\u001b[0m \u001b[0;32min\u001b[0m \u001b[0mrange\u001b[0m\u001b[0;34m(\u001b[0m\u001b[0mNEWTON_MAXITER\u001b[0m\u001b[0;34m)\u001b[0m\u001b[0;34m:\u001b[0m\u001b[0;34m\u001b[0m\u001b[0;34m\u001b[0m\u001b[0m\n\u001b[0;32m---> 43\u001b[0;31m         \u001b[0mf\u001b[0m \u001b[0;34m=\u001b[0m \u001b[0mfun\u001b[0m\u001b[0;34m(\u001b[0m\u001b[0mt_new\u001b[0m\u001b[0;34m,\u001b[0m \u001b[0my\u001b[0m\u001b[0;34m)\u001b[0m\u001b[0;34m\u001b[0m\u001b[0;34m\u001b[0m\u001b[0m\n\u001b[0m\u001b[1;32m     44\u001b[0m         \u001b[0;32mif\u001b[0m \u001b[0;32mnot\u001b[0m \u001b[0mnp\u001b[0m\u001b[0;34m.\u001b[0m\u001b[0mall\u001b[0m\u001b[0;34m(\u001b[0m\u001b[0mnp\u001b[0m\u001b[0;34m.\u001b[0m\u001b[0misfinite\u001b[0m\u001b[0;34m(\u001b[0m\u001b[0mf\u001b[0m\u001b[0;34m)\u001b[0m\u001b[0;34m)\u001b[0m\u001b[0;34m:\u001b[0m\u001b[0;34m\u001b[0m\u001b[0;34m\u001b[0m\u001b[0m\n\u001b[1;32m     45\u001b[0m             \u001b[0;32mbreak\u001b[0m\u001b[0;34m\u001b[0m\u001b[0;34m\u001b[0m\u001b[0m\n",
      "\u001b[0;32m~/.local/lib/python3.8/site-packages/scipy/integrate/_ivp/base.py\u001b[0m in \u001b[0;36mfun\u001b[0;34m(t, y)\u001b[0m\n\u001b[1;32m    136\u001b[0m         \u001b[0;32mdef\u001b[0m \u001b[0mfun\u001b[0m\u001b[0;34m(\u001b[0m\u001b[0mt\u001b[0m\u001b[0;34m,\u001b[0m \u001b[0my\u001b[0m\u001b[0;34m)\u001b[0m\u001b[0;34m:\u001b[0m\u001b[0;34m\u001b[0m\u001b[0;34m\u001b[0m\u001b[0m\n\u001b[1;32m    137\u001b[0m             \u001b[0mself\u001b[0m\u001b[0;34m.\u001b[0m\u001b[0mnfev\u001b[0m \u001b[0;34m+=\u001b[0m \u001b[0;36m1\u001b[0m\u001b[0;34m\u001b[0m\u001b[0;34m\u001b[0m\u001b[0m\n\u001b[0;32m--> 138\u001b[0;31m             \u001b[0;32mreturn\u001b[0m \u001b[0mself\u001b[0m\u001b[0;34m.\u001b[0m\u001b[0mfun_single\u001b[0m\u001b[0;34m(\u001b[0m\u001b[0mt\u001b[0m\u001b[0;34m,\u001b[0m \u001b[0my\u001b[0m\u001b[0;34m)\u001b[0m\u001b[0;34m\u001b[0m\u001b[0;34m\u001b[0m\u001b[0m\n\u001b[0m\u001b[1;32m    139\u001b[0m \u001b[0;34m\u001b[0m\u001b[0m\n\u001b[1;32m    140\u001b[0m         \u001b[0mself\u001b[0m\u001b[0;34m.\u001b[0m\u001b[0mfun\u001b[0m \u001b[0;34m=\u001b[0m \u001b[0mfun\u001b[0m\u001b[0;34m\u001b[0m\u001b[0;34m\u001b[0m\u001b[0m\n",
      "\u001b[0;32m~/.local/lib/python3.8/site-packages/scipy/integrate/_ivp/base.py\u001b[0m in \u001b[0;36mfun_wrapped\u001b[0;34m(t, y)\u001b[0m\n\u001b[1;32m     18\u001b[0m \u001b[0;34m\u001b[0m\u001b[0m\n\u001b[1;32m     19\u001b[0m     \u001b[0;32mdef\u001b[0m \u001b[0mfun_wrapped\u001b[0m\u001b[0;34m(\u001b[0m\u001b[0mt\u001b[0m\u001b[0;34m,\u001b[0m \u001b[0my\u001b[0m\u001b[0;34m)\u001b[0m\u001b[0;34m:\u001b[0m\u001b[0;34m\u001b[0m\u001b[0;34m\u001b[0m\u001b[0m\n\u001b[0;32m---> 20\u001b[0;31m         \u001b[0;32mreturn\u001b[0m \u001b[0mnp\u001b[0m\u001b[0;34m.\u001b[0m\u001b[0masarray\u001b[0m\u001b[0;34m(\u001b[0m\u001b[0mfun\u001b[0m\u001b[0;34m(\u001b[0m\u001b[0mt\u001b[0m\u001b[0;34m,\u001b[0m \u001b[0my\u001b[0m\u001b[0;34m)\u001b[0m\u001b[0;34m,\u001b[0m \u001b[0mdtype\u001b[0m\u001b[0;34m=\u001b[0m\u001b[0mdtype\u001b[0m\u001b[0;34m)\u001b[0m\u001b[0;34m\u001b[0m\u001b[0;34m\u001b[0m\u001b[0m\n\u001b[0m\u001b[1;32m     21\u001b[0m \u001b[0;34m\u001b[0m\u001b[0m\n\u001b[1;32m     22\u001b[0m     \u001b[0;32mreturn\u001b[0m \u001b[0mfun_wrapped\u001b[0m\u001b[0;34m,\u001b[0m \u001b[0my0\u001b[0m\u001b[0;34m\u001b[0m\u001b[0;34m\u001b[0m\u001b[0m\n",
      "\u001b[0;32m/tmp/ipykernel_12461/906599801.py\u001b[0m in \u001b[0;36mEuler_x\u001b[0;34m(self, x_spatial, x)\u001b[0m\n\u001b[1;32m    100\u001b[0m         \u001b[0mx0\u001b[0m \u001b[0;34m=\u001b[0m \u001b[0mnp\u001b[0m\u001b[0;34m.\u001b[0m\u001b[0marray\u001b[0m\u001b[0;34m(\u001b[0m\u001b[0mx0\u001b[0m\u001b[0;34m)\u001b[0m\u001b[0;34m\u001b[0m\u001b[0;34m\u001b[0m\u001b[0m\n\u001b[1;32m    101\u001b[0m \u001b[0;34m\u001b[0m\u001b[0m\n\u001b[0;32m--> 102\u001b[0;31m         x_x, infodict, ier, mesg = opt.fsolve(lambda x_x : self.Euler_system(x, x_x), \n\u001b[0m\u001b[1;32m    103\u001b[0m                                             \u001b[0mx0\u001b[0m\u001b[0;34m=\u001b[0m\u001b[0mx0\u001b[0m\u001b[0;34m,\u001b[0m\u001b[0;34m\u001b[0m\u001b[0;34m\u001b[0m\u001b[0m\n\u001b[1;32m    104\u001b[0m                                             xtol=atol*1e-2, full_output=1)\n",
      "\u001b[0;32m~/.local/lib/python3.8/site-packages/scipy/optimize/minpack.py\u001b[0m in \u001b[0;36mfsolve\u001b[0;34m(func, x0, args, fprime, full_output, col_deriv, xtol, maxfev, band, epsfcn, factor, diag)\u001b[0m\n\u001b[1;32m    158\u001b[0m                'diag': diag}\n\u001b[1;32m    159\u001b[0m \u001b[0;34m\u001b[0m\u001b[0m\n\u001b[0;32m--> 160\u001b[0;31m     \u001b[0mres\u001b[0m \u001b[0;34m=\u001b[0m \u001b[0m_root_hybr\u001b[0m\u001b[0;34m(\u001b[0m\u001b[0mfunc\u001b[0m\u001b[0;34m,\u001b[0m \u001b[0mx0\u001b[0m\u001b[0;34m,\u001b[0m \u001b[0margs\u001b[0m\u001b[0;34m,\u001b[0m \u001b[0mjac\u001b[0m\u001b[0;34m=\u001b[0m\u001b[0mfprime\u001b[0m\u001b[0;34m,\u001b[0m \u001b[0;34m**\u001b[0m\u001b[0moptions\u001b[0m\u001b[0;34m)\u001b[0m\u001b[0;34m\u001b[0m\u001b[0;34m\u001b[0m\u001b[0m\n\u001b[0m\u001b[1;32m    161\u001b[0m     \u001b[0;32mif\u001b[0m \u001b[0mfull_output\u001b[0m\u001b[0;34m:\u001b[0m\u001b[0;34m\u001b[0m\u001b[0;34m\u001b[0m\u001b[0m\n\u001b[1;32m    162\u001b[0m         \u001b[0mx\u001b[0m \u001b[0;34m=\u001b[0m \u001b[0mres\u001b[0m\u001b[0;34m[\u001b[0m\u001b[0;34m'x'\u001b[0m\u001b[0;34m]\u001b[0m\u001b[0;34m\u001b[0m\u001b[0;34m\u001b[0m\u001b[0m\n",
      "\u001b[0;32m~/.local/lib/python3.8/site-packages/scipy/optimize/minpack.py\u001b[0m in \u001b[0;36m_root_hybr\u001b[0;34m(func, x0, args, jac, col_deriv, xtol, maxfev, band, eps, factor, diag, **unknown_options)\u001b[0m\n\u001b[1;32m    235\u001b[0m         \u001b[0;32mif\u001b[0m \u001b[0mmaxfev\u001b[0m \u001b[0;34m==\u001b[0m \u001b[0;36m0\u001b[0m\u001b[0;34m:\u001b[0m\u001b[0;34m\u001b[0m\u001b[0;34m\u001b[0m\u001b[0m\n\u001b[1;32m    236\u001b[0m             \u001b[0mmaxfev\u001b[0m \u001b[0;34m=\u001b[0m \u001b[0;36m200\u001b[0m \u001b[0;34m*\u001b[0m \u001b[0;34m(\u001b[0m\u001b[0mn\u001b[0m \u001b[0;34m+\u001b[0m \u001b[0;36m1\u001b[0m\u001b[0;34m)\u001b[0m\u001b[0;34m\u001b[0m\u001b[0;34m\u001b[0m\u001b[0m\n\u001b[0;32m--> 237\u001b[0;31m         retval = _minpack._hybrd(func, x0, args, 1, xtol, maxfev,\n\u001b[0m\u001b[1;32m    238\u001b[0m                                  ml, mu, epsfcn, factor, diag)\n\u001b[1;32m    239\u001b[0m     \u001b[0;32melse\u001b[0m\u001b[0;34m:\u001b[0m\u001b[0;34m\u001b[0m\u001b[0;34m\u001b[0m\u001b[0m\n",
      "\u001b[0;32m/tmp/ipykernel_12461/906599801.py\u001b[0m in \u001b[0;36m<lambda>\u001b[0;34m(x_x)\u001b[0m\n\u001b[1;32m    100\u001b[0m         \u001b[0mx0\u001b[0m \u001b[0;34m=\u001b[0m \u001b[0mnp\u001b[0m\u001b[0;34m.\u001b[0m\u001b[0marray\u001b[0m\u001b[0;34m(\u001b[0m\u001b[0mx0\u001b[0m\u001b[0;34m)\u001b[0m\u001b[0;34m\u001b[0m\u001b[0;34m\u001b[0m\u001b[0m\n\u001b[1;32m    101\u001b[0m \u001b[0;34m\u001b[0m\u001b[0m\n\u001b[0;32m--> 102\u001b[0;31m         x_x, infodict, ier, mesg = opt.fsolve(lambda x_x : self.Euler_system(x, x_x), \n\u001b[0m\u001b[1;32m    103\u001b[0m                                             \u001b[0mx0\u001b[0m\u001b[0;34m=\u001b[0m\u001b[0mx0\u001b[0m\u001b[0;34m,\u001b[0m\u001b[0;34m\u001b[0m\u001b[0;34m\u001b[0m\u001b[0m\n\u001b[1;32m    104\u001b[0m                                             xtol=atol*1e-2, full_output=1)\n",
      "\u001b[0;32m/tmp/ipykernel_12461/906599801.py\u001b[0m in \u001b[0;36mEuler_system\u001b[0;34m(self, x, x_x)\u001b[0m\n\u001b[1;32m     29\u001b[0m         \u001b[0mp\u001b[0m \u001b[0;34m+=\u001b[0m \u001b[0mrho\u001b[0m \u001b[0;34m*\u001b[0m \u001b[0mY\u001b[0m\u001b[0;34m[\u001b[0m\u001b[0mt\u001b[0m\u001b[0;34m]\u001b[0m \u001b[0;34m*\u001b[0m \u001b[0mRu\u001b[0m \u001b[0;34m/\u001b[0m \u001b[0mself\u001b[0m\u001b[0;34m.\u001b[0m\u001b[0mspecie\u001b[0m\u001b[0;34m[\u001b[0m\u001b[0mt\u001b[0m\u001b[0;34m]\u001b[0m\u001b[0;34m.\u001b[0m\u001b[0mmmol\u001b[0m \u001b[0;34m*\u001b[0m \u001b[0mT\u001b[0m\u001b[0;34m\u001b[0m\u001b[0;34m\u001b[0m\u001b[0m\n\u001b[1;32m     30\u001b[0m \u001b[0;34m\u001b[0m\u001b[0m\n\u001b[0;32m---> 31\u001b[0;31m     \u001b[0mS\u001b[0m\u001b[0;34m,\u001b[0m \u001b[0mSe\u001b[0m \u001b[0;34m=\u001b[0m \u001b[0mself\u001b[0m\u001b[0;34m.\u001b[0m\u001b[0mcompute_Sy\u001b[0m\u001b[0;34m(\u001b[0m\u001b[0mrho\u001b[0m\u001b[0;34m,\u001b[0m \u001b[0mT\u001b[0m\u001b[0;34m,\u001b[0m \u001b[0mY\u001b[0m\u001b[0;34m)\u001b[0m\u001b[0;34m\u001b[0m\u001b[0;34m\u001b[0m\u001b[0m\n\u001b[0m\u001b[1;32m     32\u001b[0m \u001b[0;34m\u001b[0m\u001b[0m\n\u001b[1;32m     33\u001b[0m     \u001b[0;32mif\u001b[0m \u001b[0mdebug\u001b[0m\u001b[0;34m:\u001b[0m\u001b[0;34m\u001b[0m\u001b[0;34m\u001b[0m\u001b[0m\n",
      "\u001b[0;32m/tmp/ipykernel_12461/3067284615.py\u001b[0m in \u001b[0;36mcompute_Sy\u001b[0;34m(self, rho, T, Y)\u001b[0m\n\u001b[1;32m     31\u001b[0m \u001b[0;34m\u001b[0m\u001b[0m\n\u001b[1;32m     32\u001b[0m                 \u001b[0;31m# Compute the reaction rate\u001b[0m\u001b[0;34m\u001b[0m\u001b[0;34m\u001b[0m\u001b[0;34m\u001b[0m\u001b[0m\n\u001b[0;32m---> 33\u001b[0;31m                 \u001b[0mw_s\u001b[0m \u001b[0;34m=\u001b[0m \u001b[0mobj\u001b[0m\u001b[0;34m.\u001b[0m\u001b[0mkf\u001b[0m\u001b[0;34m(\u001b[0m\u001b[0mT\u001b[0m\u001b[0;34m)\u001b[0m \u001b[0;34m*\u001b[0m \u001b[0mnp\u001b[0m\u001b[0;34m.\u001b[0m\u001b[0mprod\u001b[0m\u001b[0;34m(\u001b[0m\u001b[0mnr_l\u001b[0m \u001b[0;34m**\u001b[0m \u001b[0mobj\u001b[0m\u001b[0;34m.\u001b[0m\u001b[0mstoichr\u001b[0m\u001b[0;34m)\u001b[0m \u001b[0;34m-\u001b[0m \u001b[0mobj\u001b[0m\u001b[0;34m.\u001b[0m\u001b[0mkb\u001b[0m\u001b[0;34m(\u001b[0m\u001b[0mT\u001b[0m\u001b[0;34m)\u001b[0m \u001b[0;34m*\u001b[0m \u001b[0mnp\u001b[0m\u001b[0;34m.\u001b[0m\u001b[0mprod\u001b[0m\u001b[0;34m(\u001b[0m\u001b[0mnp_l\u001b[0m \u001b[0;34m**\u001b[0m \u001b[0mobj\u001b[0m\u001b[0;34m.\u001b[0m\u001b[0mstoichp\u001b[0m\u001b[0;34m)\u001b[0m\u001b[0;34m\u001b[0m\u001b[0;34m\u001b[0m\u001b[0m\n\u001b[0m\u001b[1;32m     34\u001b[0m                 \u001b[0;31m#breakpoint()\u001b[0m\u001b[0;34m\u001b[0m\u001b[0;34m\u001b[0m\u001b[0;34m\u001b[0m\u001b[0m\n\u001b[1;32m     35\u001b[0m                 \u001b[0;31m# Update the source terms for the species equation\u001b[0m\u001b[0;34m\u001b[0m\u001b[0;34m\u001b[0m\u001b[0;34m\u001b[0m\u001b[0m\n",
      "\u001b[0;32m<__array_function__ internals>\u001b[0m in \u001b[0;36mprod\u001b[0;34m(*args, **kwargs)\u001b[0m\n",
      "\u001b[0;32m~/.local/lib/python3.8/site-packages/numpy/core/fromnumeric.py\u001b[0m in \u001b[0;36m_prod_dispatcher\u001b[0;34m(a, axis, dtype, out, keepdims, initial, where)\u001b[0m\n\u001b[1;32m   2926\u001b[0m \u001b[0;34m\u001b[0m\u001b[0m\n\u001b[1;32m   2927\u001b[0m \u001b[0;34m\u001b[0m\u001b[0m\n\u001b[0;32m-> 2928\u001b[0;31m def _prod_dispatcher(a, axis=None, dtype=None, out=None, keepdims=None,\n\u001b[0m\u001b[1;32m   2929\u001b[0m                      initial=None, where=None):\n\u001b[1;32m   2930\u001b[0m     \u001b[0;32mreturn\u001b[0m \u001b[0;34m(\u001b[0m\u001b[0ma\u001b[0m\u001b[0;34m,\u001b[0m \u001b[0mout\u001b[0m\u001b[0;34m)\u001b[0m\u001b[0;34m\u001b[0m\u001b[0;34m\u001b[0m\u001b[0m\n",
      "\u001b[0;31mKeyboardInterrupt\u001b[0m: "
     ]
    }
   ],
   "source": [
    "_11specie = problem()\n",
    "\n",
    "# Add species \n",
    "_11specie.add_specie_ic(O2, 0.2)\n",
    "_11specie.add_specie_ic(N2, 0.8)\n",
    "_11specie.add_specie_ic(NO,  0.0)\n",
    "_11specie.add_specie_ic(N,  0.0)\n",
    "_11specie.add_specie_ic(O,  0.0)\n",
    "_11specie.add_specie_ic(O2p,  0.0)\n",
    "_11specie.add_specie_ic(NOp,  0.0)\n",
    "_11specie.add_specie_ic(N2p,  0.0)\n",
    "_11specie.add_specie_ic(Np,  0.0)\n",
    "_11specie.add_specie_ic(Op,  0.0)\n",
    "_11specie.add_specie_ic(em,  0.0)\n",
    "\n",
    "# Add reactions\n",
    "_11specie.reaction.append(O2diss)\n",
    "_11specie.reaction.append(N2diss)\n",
    "_11specie.reaction.append(NOdiss)\n",
    "_11specie.reaction.append(NO_O)\n",
    "_11specie.reaction.append(O_N2)\n",
    "_11specie.reaction.append(O_O2p)\n",
    "_11specie.reaction.append(N2_Np)\n",
    "_11specie.reaction.append(O_NOp )\n",
    "_11specie.reaction.append(N2_Op)\n",
    "_11specie.reaction.append(N_NOp)\n",
    "_11specie.reaction.append(O2_NOp)\n",
    "_11specie.reaction.append(NOp_N)\n",
    "_11specie.reaction.append(O___N)\n",
    "_11specie.reaction.append(O___O)\n",
    "_11specie.reaction.append(N___N)\n",
    "_11specie.reaction.append(O_ion)\n",
    "_11specie.reaction.append(N_ion)\n",
    "\n",
    "# Set ic\n",
    "# caso 1 di Matte (stessi di Park)    CANCELLARE\n",
    "_11specie.T0     = 247.02 # 300\n",
    "_11specie.rho0   = 3.097e-4 #1.225\n",
    "_11specie.u0     = 5062 #3000\n",
    "\n",
    "# Solve\n",
    "_11specie.solve()"
   ]
  },
  {
   "cell_type": "raw",
   "metadata": {
    "tags": []
   },
   "source": [
    "plt.plot(_11specie.sol_x, _11specie.sol_e)"
   ]
  },
  {
   "cell_type": "raw",
   "metadata": {},
   "source": [
    "ax = plt.axes()\n",
    "ax.plot(_11specie.sol_x, _11specie.sol_rho)\n"
   ]
  },
  {
   "cell_type": "raw",
   "metadata": {},
   "source": [
    "ax = plt.axes()\n",
    "ax.plot(_11specie.sol_x, _11specie.sol_u)\n",
    "\n",
    "#ax.set_ylim(300, 500)"
   ]
  },
  {
   "cell_type": "raw",
   "metadata": {},
   "source": [
    "ax = plt.axes()\n",
    "ax.plot(_11specie.sol_x, _11specie.sol_T)\n",
    "#ax.set_ylim(3900, 4000)"
   ]
  },
  {
   "cell_type": "code",
   "execution_count": 19,
   "metadata": {},
   "outputs": [
    {
     "data": {
      "image/png": "[encoded data removed]",
      "text/plain": [
       "<Figure size 1080x720 with 8 Axes>"
      ]
     },
     "metadata": {
      "filenames": {
       "image/png": "/home/edoardo/Documents/Hypersonic/Reactive_shock_air/code/Book/_build/jupyter_execute/Reactive_Air_shock_53_0.png"
      },
      "needs_background": "light"
     },
     "output_type": "display_data"
    }
   ],
   "source": [
    "xmax = 5e-3\n",
    "xmax_l = 3e7\n",
    "\n",
    "fig, ax = plt.subplots(4, 1,)\n",
    "_11specie.plot_T(ax[0], xmax = xmax)\n",
    "_11specie.plot_rho(ax[1], xmax = xmax)\n",
    "# ax[1].set_ylim(2.2e-3,2.6e-3)\n",
    "_11specie.logplot_Y(ax[2], xmax = xmax)\n",
    "_11specie.plot_u(ax[3], xmax = xmax)\n",
    "\n",
    "fig.tight_layout()"
   ]
  },
  {
   "cell_type": "code",
   "execution_count": 121,
   "metadata": {},
   "outputs": [
    {
     "name": "stdout",
     "output_type": "stream",
     "text": [
      "Maximum mass flux error       : 3.8992680452961817e-13\n",
      "Maximum momentum flux error   : 7.203640096541309e-13\n",
      "Maximum enthalpy flux error   : 3.7209135859591135e-06\n",
      "Maximum mass frac error       : 7.51620987671231e-14\n",
      "Last value of mass flux       : 1.5677014000006058\n",
      "Ymin                          : 0.0\n"
     ]
    },
    {
     "data": {
      "image/png": "[encoded data removed]",
      "text/plain": [
       "<Figure size 1080x720 with 8 Axes>"
      ]
     },
     "metadata": {
      "filenames": {
       "image/png": "/home/edoardo/Documents/Hypersonic/Reactive_shock_air/code/Book/_build/jupyter_execute/Reactive_Air_shock_54_1.png"
      },
      "needs_background": "light"
     },
     "output_type": "display_data"
    }
   ],
   "source": [
    "_11specie.validate()"
   ]
  },
  {
   "cell_type": "markdown",
   "metadata": {},
   "source": [
    "## Effect of altitude (density)"
   ]
  },
  {
   "cell_type": "raw",
   "metadata": {
    "tags": [
     "hide-output"
    ]
   },
   "source": [
    "high_h = cp.deepcopy(_11specie)\n",
    "\n",
    "# high_h.T0 = _11specie.T0 / 10\n",
    "high_h.rho0 = _11specie.rho0 * 20  # 0.02\n",
    "\n",
    "\n",
    "high_h.solve()"
   ]
  },
  {
   "cell_type": "raw",
   "metadata": {},
   "source": [
    "fig, ax = plt.subplots(4, 1,)\n",
    "high_h.plot_T(ax[0], xmax = xmax)\n",
    "high_h.plot_rho(ax[1], xmax = xmax)\n",
    "# ax[1].set_ylim(2.2e-3,2.6e-3)\n",
    "high_h.logplot_Y(ax[2], xmax = xmax)\n",
    "high_h.plot_u(ax[3], xmax = xmax)\n",
    "\n",
    "fig.tight_layout()"
   ]
  },
  {
   "cell_type": "raw",
   "metadata": {},
   "source": [
    "high_h.validate()"
   ]
  },
  {
   "cell_type": "raw",
   "metadata": {
    "tags": []
   },
   "source": [
    "xmax_l = 4e4\n",
    "\n",
    "fig, ax = plt.subplots(2,2, sharey = True)\n",
    "\n",
    "_11specie.plot_T(ax[0,0], xmax = xmax)\n",
    "ax[0,0].set_title('Standard')\n",
    "\n",
    "high_h.plot_T(ax[0,1], xmax = xmax)\n",
    "ax[0, 1].set_title('Low density')\n",
    "\n",
    "_11specie.plot_T(ax[1,0], xmax_l = xmax_l)\n",
    "\n",
    "high_h.plot_T(ax[1,1], xmax_l = xmax_l)\n",
    "\n",
    "\n",
    "fig.tight_layout()"
   ]
  },
  {
   "cell_type": "raw",
   "metadata": {
    "tags": []
   },
   "source": [
    "xmax_l = 2e3 # 4e4\n",
    "\n",
    "fig, ax = plt.subplots(2,2, sharey = True)\n",
    "\n",
    "_11specie.plot_Y(ax[0,0], xmax = xmax)\n",
    "ax[0,0].set_title('Standard')\n",
    "\n",
    "high_h.plot_Y(ax[0,1], xmax = xmax)\n",
    "ax[0, 1].set_title('Low density')\n",
    "\n",
    "_11specie.plot_Y(ax[1,0], xmax_l = xmax_l)\n",
    "\n",
    "high_h.plot_Y(ax[1,1], xmax_l = xmax_l)\n",
    "\n",
    "fig.tight_layout()"
   ]
  },
  {
   "cell_type": "markdown",
   "metadata": {},
   "source": [
    "## Effect of velocity"
   ]
  },
  {
   "cell_type": "raw",
   "metadata": {
    "tags": [
     "hide-output"
    ]
   },
   "source": [
    "high_u = cp.deepcopy(_11specie)\n",
    "\n",
    "high_u.u0 = 3000\n",
    "\n",
    "high_u.solve()"
   ]
  },
  {
   "cell_type": "raw",
   "metadata": {},
   "source": [
    "fig, ax = plt.subplots(2,2, sharey = True)\n",
    "\n",
    "_11specie.plot_T(ax[0,0], xmax = xmax)\n",
    "ax[0,0].set_title('Standard')\n",
    "\n",
    "high_u.plot_T(ax[0,1], xmax = xmax)\n",
    "ax[0, 1].set_title('High speed')\n",
    "\n",
    "_11specie.plot_T(ax[1,0], xmax_l = xmax_l)\n",
    "\n",
    "high_u.plot_T(ax[1,1], xmax_l = xmax_l)\n",
    "\n",
    "\n",
    "fig.tight_layout()"
   ]
  },
  {
   "cell_type": "raw",
   "metadata": {
    "tags": []
   },
   "source": [
    "fig, ax = plt.subplots(2,2, sharey = True)\n",
    "\n",
    "_11specie.plot_Y(ax[0,0], xmax = xmax)\n",
    "ax[0,0].set_title('Standard')\n",
    "\n",
    "high_u.plot_Y(ax[0,1], xmax = xmax)\n",
    "ax[0, 1].set_title('High speed')\n",
    "\n",
    "_11specie.plot_Y(ax[1,0], xmax_l = xmax_l)\n",
    "\n",
    "high_u.plot_Y(ax[1,1], xmax_l = xmax_l)\n",
    "\n",
    "fig.tight_layout()"
   ]
  },
  {
   "cell_type": "markdown",
   "metadata": {},
   "source": [
    "## Effect of composition"
   ]
  },
  {
   "cell_type": "raw",
   "metadata": {
    "tags": [
     "hide-output"
    ]
   },
   "source": [
    "high_N2 = problem()\n",
    "\n",
    "# Add species \n",
    "high_N2.add_specie_ic(O2, 0.2)\n",
    "high_N2.add_specie_ic(N2, 0.8)\n",
    "high_N2.add_specie_ic(NO,  0.0)\n",
    "high_N2.add_specie_ic(N,  0.0)\n",
    "high_N2.add_specie_ic(O,  0.0)\n",
    "high_N2.add_specie_ic(O2p,  0.0)\n",
    "high_N2.add_specie_ic(NOp,  0.0)\n",
    "high_N2.add_specie_ic(N2p,  0.0)\n",
    "high_N2.add_specie_ic(Np,  0.0)\n",
    "high_N2.add_specie_ic(Op,  0.0)\n",
    "high_N2.add_specie_ic(em,  0.0)\n",
    "\n",
    "# Add reactions\n",
    "high_N2.reaction.append(O2diss)\n",
    "high_N2.reaction.append(N2diss)\n",
    "high_N2.reaction.append(NOdiss)\n",
    "high_N2.reaction.append(O_N2)\n",
    "high_N2.reaction.append(O_O2p)\n",
    "high_N2.reaction.append(N2_Np)\n",
    "\n",
    "# Set ic\n",
    "high_N2.T0     = 300\n",
    "high_N2.rho0   = 1.225\n",
    "high_N2.u0     = 1500\n",
    "\n",
    "# Solve\n",
    "high_N2.solve()\n",
    "\n"
   ]
  },
  {
   "cell_type": "raw",
   "metadata": {},
   "source": [
    "fig, ax = plt.subplots(2,2, sharey = True)\n",
    "\n",
    "_11specie.plot_T(ax[0,0], xmax = xmax)\n",
    "ax[0,0].set_title('Standard')\n",
    "\n",
    "high_N2.plot_T(ax[0,1], xmax = xmax)\n",
    "ax[0, 1].set_title('High N2')\n",
    "\n",
    "_11specie.plot_T(ax[1,0], xmax_l = xmax_l)\n",
    "\n",
    "high_N2.plot_T(ax[1,1], xmax_l = xmax_l)\n",
    "\n",
    "\n",
    "fig.tight_layout()"
   ]
  },
  {
   "cell_type": "raw",
   "metadata": {},
   "source": [
    "fig, ax = plt.subplots(2,2, sharey = True)\n",
    "\n",
    "_11specie.plot_Y(ax[0,0], xmax = xmax)\n",
    "ax[0,0].set_title('Standard')\n",
    "\n",
    "high_N2.plot_Y(ax[0,1], xmax = xmax_l)\n",
    "ax[0, 1].set_title('High N2')\n",
    "\n",
    "_11specie.plot_Y(ax[1,0], xmax_l = xmax_l)\n",
    "\n",
    "high_N2.plot_Y(ax[1,1], xmax_l = xmax_l)\n",
    "\n",
    "fig.tight_layout()"
   ]
  },
  {
   "cell_type": "code",
   "execution_count": null,
   "metadata": {},
   "outputs": [],
   "source": []
  },
  {
   "cell_type": "markdown",
   "metadata": {},
   "source": [
    "# O2 Dissociation"
   ]
  },
  {
   "cell_type": "code",
   "execution_count": 118,
   "metadata": {
    "tags": []
   },
   "outputs": [
    {
     "name": "stdout",
     "output_type": "stream",
     "text": [
      "Pre shock Mach : 24.99953124560539\n",
      "******************************\n",
      "Post-shock guess values:\n",
      "rho    : 0.00010988091967707133\n",
      "T      : 24326.932817927933\n",
      "Speed  : 1128.987418452406\n",
      "Mach   : 0.37951675314028627\n",
      "******************************\n",
      "Post-shock values:\n",
      "rho    : 0.0001652319892416528\n",
      "T      : 17270.44435333903\n",
      "Speed  : 750.787885643443\n",
      "Mach   : 0.3201760047604018\n",
      "******************************\n",
      "Reference mean free path : 0.00040063369246117354\n",
      "\n",
      "A Solving for x = 1.000000000000e+00\r"
     ]
    }
   ],
   "source": [
    "O2_dissociation = problem()\n",
    "\n",
    "diss = reaction([1.335, -4.127, -0.616, 0.093, -0.005], -117.98*4184)\n",
    "diss.add_subreaction(subreaction([O2, O], [O, O], [1, 1], [2,1], 8.25e19/1e6,\n",
    "                                  -1, 59500))\n",
    "\n",
    "diss.add_subreaction(subreaction([O2, O2], [O, O2], [1, 1], [2,1], 2.75e19/1e6,\n",
    "                                  -1, 59500))\n",
    "\n",
    "# Add species \n",
    "O2_dissociation.add_specie_ic(O2, 1.0)\n",
    "O2_dissociation.add_specie_ic(O,  0.0)\n",
    "\n",
    "\n",
    "# Add reactions\n",
    "O2_dissociation.reaction.append(diss)\n",
    "\n",
    "# Set ic\n",
    "#O2_dissociation.T0     = 273.15 - 74.51\n",
    "#O2_dissociation.rho0   = 1.8460e-5\n",
    "#O2_dissociation.u0     = 25*np.sqrt(1.4*Ru/32*O2_dissociation.T0)\n",
    "O2_dissociation.T0     = 273.15 - 74.51\n",
    "O2_dissociation.rho0   = 1.8460e-5\n",
    "O2_dissociation.u0     = 25 * np.sqrt(1.4 * Ru / (32*1e-3) * O2_dissociation.T0)\n",
    "\n",
    "# Solve\n",
    "O2_dissociation.solve(xf = 1)"
   ]
  },
  {
   "cell_type": "code",
   "execution_count": 119,
   "metadata": {},
   "outputs": [
    {
     "data": {
      "image/png": "[encoded data removed]",
      "text/plain": [
       "<Figure size 1080x720 with 8 Axes>"
      ]
     },
     "metadata": {
      "filenames": {
       "image/png": "/home/edoardo/Documents/Hypersonic/Reactive_shock_air/code/Book/_build/jupyter_execute/Reactive_Air_shock_72_0.png"
      },
      "needs_background": "light"
     },
     "output_type": "display_data"
    }
   ],
   "source": [
    "xmax = 2e-2\n",
    "xmax_l = 3e7\n",
    "\n",
    "fig, ax = plt.subplots(4, 1,)\n",
    "O2_dissociation.plot_T(ax[0], xmax = xmax)\n",
    "O2_dissociation.plot_rho(ax[1], xmax = xmax)\n",
    "O2_dissociation.plot_Y(ax[2], xmax = xmax)\n",
    "# O2_dissociation.logplot_Y(ax[2], xmax = xmax)\n",
    "O2_dissociation.plot_u(ax[3], xmax = xmax)\n",
    "\n",
    "fig.tight_layout()"
   ]
  },
  {
   "cell_type": "code",
   "execution_count": 120,
   "metadata": {},
   "outputs": [
    {
     "name": "stdout",
     "output_type": "stream",
     "text": [
      "Maximum mass flux error       : 6.559984551245814e-13\n",
      "Maximum momentum flux error   : 1.113961399063128e-12\n",
      "Maximum enthalpy flux error   : 6.581196502021277e-13\n",
      "Maximum mass frac error       : 1.5543122344752192e-15\n",
      "Last value of mass flux       : 0.12405417584337154\n",
      "Ymin                          : 0.0\n"
     ]
    },
    {
     "data": {
      "image/png": "[encoded data removed]",
      "text/plain": [
       "<Figure size 1080x720 with 8 Axes>"
      ]
     },
     "metadata": {
      "filenames": {
       "image/png": "/home/edoardo/Documents/Hypersonic/Reactive_shock_air/code/Book/_build/jupyter_execute/Reactive_Air_shock_73_1.png"
      },
      "needs_background": "light"
     },
     "output_type": "display_data"
    }
   ],
   "source": [
    "O2_dissociation.validate(xmax=1e-2)"
   ]
  },
  {
   "cell_type": "code",
   "execution_count": null,
   "metadata": {},
   "outputs": [],
   "source": []
  }
 ],
 "metadata": {
  "celltoolbar": "Edit Metadata",
  "kernelspec": {
   "display_name": "Python 3 (ipykernel)",
   "language": "python",
   "name": "python3"
  },
  "language_info": {
   "codemirror_mode": {
    "name": "ipython",
    "version": 3
   },
   "file_extension": ".py",
   "mimetype": "text/x-python",
   "name": "python",
   "nbconvert_exporter": "python",
   "pygments_lexer": "ipython3",
   "version": "3.8.10"
  }
 },
 "nbformat": 4,
 "nbformat_minor": 4
}