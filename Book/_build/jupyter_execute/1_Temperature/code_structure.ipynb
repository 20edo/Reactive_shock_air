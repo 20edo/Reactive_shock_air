{
 "cells": [
  {
   "cell_type": "markdown",
   "id": "1b03bb93-a33d-4b9b-9524-2a3bc6dfab84",
   "metadata": {},
   "source": [
    "# One temperature\n",
    "The main classes of the code are:\n",
    "* Specie: contains specie data such as energy level and degeneracy and allows to compute the energy of a specie at a given temperature\n",
    "* Reaction and sub-reaction: contain the reaction data such as reactants, products, exponents etc. and allows to compute the forward and backward coefficients\n",
    "* Problem: contains the problem information such as initial mixture composition, speed, temperature, etc. and allows to compute the mixture properties for a given state, solve the chemical relaxation problem and plot the results.\n",
    "\n",
    "Each of these classes will be explained in details in the following pages."
   ]
  },
  {
   "cell_type": "markdown",
   "id": "9fcc36fe-ae8e-4018-a848-e1f05656a25b",
   "metadata": {},
   "source": [
    "# Required packages and global constants\n",
    "\n",
    "Firstly, some relevant python packages are imporoted and some useful constants are set. From the next page on the first lines will be hidden, they usually serve the same purpuse as here and eventually add some tolerance parameter or load the results of the previous page."
   ]
  },
  {
   "cell_type": "code",
   "execution_count": 1,
   "id": "78f837ce-8cd8-44f2-a682-98c606fca56a",
   "metadata": {},
   "outputs": [],
   "source": [
    "import matplotlib.pyplot as plt\n",
    "import numpy as np\n",
    "import pandas as pd\n",
    "import copy as cp\n",
    "import sys\n",
    "import scipy.optimize as opt\n",
    "import scipy.integrate as itg"
   ]
  },
  {
   "cell_type": "code",
   "execution_count": 2,
   "id": "d16602b2-6f5a-42d1-991a-e7d34d8cad4e",
   "metadata": {},
   "outputs": [],
   "source": [
    "Kb  = 1.3806503e-23;     # Boltzmann constant [J/K]\n",
    "amu = 1.66053904020e-24; # 1/Avogadro's number [mol]\n",
    "Ru = Kb/amu              # Universal gas constant [J/(K*mol)]"
   ]
  }
 ],
 "metadata": {
  "kernelspec": {
   "display_name": "Python 3 (ipykernel)",
   "language": "python",
   "name": "python3"
  },
  "language_info": {
   "codemirror_mode": {
    "name": "ipython",
    "version": 3
   },
   "file_extension": ".py",
   "mimetype": "text/x-python",
   "name": "python",
   "nbconvert_exporter": "python",
   "pygments_lexer": "ipython3",
   "version": "3.8.10"
  }
 },
 "nbformat": 4,
 "nbformat_minor": 5
}