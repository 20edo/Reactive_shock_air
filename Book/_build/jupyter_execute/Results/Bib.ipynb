{
 "cells": [
  {
   "cell_type": "markdown",
   "id": "8106f2e7-4ab9-4777-919c-8010a0914f6b",
   "metadata": {},
   "source": [
    "[1]  Park, C.. “On convergence of computation of chemically reacting flows.” (1985). <br>\n",
    "[2]  Zanardi I. “Effects of nonequilibrium oxygen dissociation and vibrational relaxation in hypersonic flows”. (2020). <br>\n",
    "[3]  Steven F. T. Apirana , Christopher M. James , Steven Lewis , Richard Morgan. \"Experimental Methods for Studying Post Shock Relaxation\". (2021)"
   ]
  }
 ],
 "metadata": {
  "kernelspec": {
   "display_name": "Python 3 (ipykernel)",
   "language": "python",
   "name": "python3"
  },
  "language_info": {
   "codemirror_mode": {
    "name": "ipython",
    "version": 3
   },
   "file_extension": ".py",
   "mimetype": "text/x-python",
   "name": "python",
   "nbconvert_exporter": "python",
   "pygments_lexer": "ipython3",
   "version": "3.8.10"
  }
 },
 "nbformat": 4,
 "nbformat_minor": 5
}