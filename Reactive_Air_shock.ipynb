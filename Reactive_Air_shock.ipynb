{
 "cells": [
  {
   "cell_type": "markdown",
   "metadata": {},
   "source": [
    "# Reactive air shock\n",
    "In this report a code to compute the chemical relaxation past a shock is developed. [Aggiungere cose]\n",
    "\n",
    "Firstly, as python is used, the required packages are imported and global variables are defined\n",
    "\n"
   ]
  },
  {
   "cell_type": "code",
   "execution_count": 1,
   "metadata": {},
   "outputs": [],
   "source": [
    "import matplotlib.pyplot as plt\n",
    "import numpy as np\n",
    "import pandas as pd"
   ]
  },
  {
   "cell_type": "code",
   "execution_count": 2,
   "metadata": {},
   "outputs": [],
   "source": [
    "Kb  = 1.3806503e-23; # Boltzmann constant\n",
    "amu = 1.66053904020e-27;"
   ]
  },
  {
   "cell_type": "markdown",
   "metadata": {},
   "source": [
    "## Specie class definition\n",
    "\n",
    "For each specie a common framework is defined which allows to compute thermodynamic derivatives, energy, temperature and other relevant values for the subsequent calculations starting from the data provided by Park and Zanardi.\n",
    "\n",
    "Assuming that the different contributions can be computed indipendently, the temperature and CVs are defined as the sum of the translational-rotational, vibrational and electronic which are calculated as:\n",
    "\n",
    "* Translational-rotational : \n",
    "    * If the molecule is monoatomic, it has no rotational dofs, then $ CV^t = \\frac{3}{2} \\times R_{gas} \\times T $\n",
    "    * If the molecule is not monoatomic, the rotational contribution must be added $ CV^{(rt)} = CV^t + R $\n",
    "    \n",
    "    Then, energy is computed as $e^{tr} = CV \\times T$.\n",
    "    \n",
    "* Vibrational :\n",
    "    The contribution of vibrational dofs to energy is computed by assuming armhonic oscillator potential. The energy can becomes: $e^{v} = R_{gas} \\times \\frac{\\theta_v}{e^{\\frac{\\theta_v}{T}-1}} $ and the specific heat is computed by deriving with respect to T.\n",
    "    \n",
    "* Electronic :\n",
    "    Given the partition function (Zanardi's tables), the energy due to electronic energy levels is computed as $ e = R_{gas}T^2 \\frac{\\partial}{\\partial T} log(Z) = \\frac{R_gas}{Z} \\sum_i g_i \\theta_i e^{-\\frac{\\theta_i}{T}}$. Analogously with the vibrational contribution the expression for the specific heat is obtained deriving the formula with respect to T."
   ]
  },
  {
   "cell_type": "code",
   "execution_count": 3,
   "metadata": {},
   "outputs": [],
   "source": [
    "class specie:\n",
    "    def __init__(self, mmol, th_v, th_r, th_d):\n",
    "        specie.th_v = th_v\n",
    "        specie.th_r = th_r\n",
    "        specie.th_d = th_d\n",
    "        specie.electro_g = None\n",
    "        specie.electro_th = None\n",
    "        specie.e0 = None\n",
    "        specie.e_rot = None\n",
    "        specie.e_vib = None\n",
    "        specie.e_ele = None\n",
    "        specie.e = None\n",
    "        specie.mmol = mmol\n",
    "        specie.R = Kb/mmol/amu\n",
    "        \n",
    "    def energy(self, T):\n",
    "        'Computes the energy and Cv as the sum of translational-rotational, vibrational and electronic contributions'\n",
    "        e = 0\n",
    "        Cv = 0\n",
    "        \n",
    "        # Traslational - rotational \n",
    "        if self.th_r > 0:\n",
    "            Cv_rot = 3/2 * self.R + self.R\n",
    "            \n",
    "        else:\n",
    "            Cv_rot = 3/2 * self.R\n",
    "        e_rot  = Cv_rot * T \n",
    "        \n",
    "        # Vibrational \n",
    "        if self.th_v > 0:\n",
    "            CV_vib = self.R*((self.th_v/T)**2)*(np.exp(self.th_v/T))/(np.exp(self.th_v/T)-1)**2;\n",
    "            e_vib  = self.R*self.th_v/(np.exp(self.th_v/T) - 1);\n",
    "        else:\n",
    "            CV_vib = 0\n",
    "            e_vib  = 0\n",
    "        \n",
    "        # Electronic\n",
    "        Z = np.sum(np.multiply(self.electro_g, np.exp(-self.electro_th/T)))\n",
    "        Z1= np.sum(np.multiply(self.electro_g, np.exp(-self.electro_th/T), self.electro_th)) \n",
    "        Z2= np.sum(np.multiply(self.electro_g, np.exp(-self.electro_th/T), self.electro_th)) \n",
    "        e_ele  = self.R * Z1 / Z\n",
    "        CV_ele = self.R/(T**2)*(-(e_ele/self.R)**2 + Z2 / Z)\n",
    "        \n",
    "        # Update Cv and e values\n",
    "        CV = Cv_rot + CV_vib + CV_ele\n",
    "        e  = e_rot  + e_vib  + e_ele\n",
    "        \n",
    "        return e, CV"
   ]
  },
  {
   "cell_type": "markdown",
   "metadata": {},
   "source": [
    "Species are defined as objects of class specie and properties are defined according to the tables in Zanardi."
   ]
  },
  {
   "cell_type": "code",
   "execution_count": 5,
   "metadata": {},
   "outputs": [
    {
     "data": {
      "text/plain": [
       "(372614.0593416891, 757.8742549736087)"
      ]
     },
     "execution_count": 5,
     "metadata": {},
     "output_type": "execute_result"
    }
   ],
   "source": [
    "N2 = specie(28, 3395, 113200, 0)\n",
    "N2.electro_g  = np.array([1, 3, 6, 6, 3, 1, 2, 2, 5, 1, 6, 6, 10, 6, 6])\n",
    "N2.electro_th = np.array([0, 7.2231565e+04, 8.5778626e+04, 8.6050267e+04, 9.5351186e+04, 9.8056357e+04, 9.9682677e+04, 1.0489765e+05, 1.1164896e+05, 1.2258365e+05,\n",
    "                 1.2488569e+05, 1.2824762e+05, 1.3380609e+05, 1.4042964e+05, 1.5049589e+05])\n"
   ]
  },
  {
   "cell_type": "code",
   "execution_count": null,
   "metadata": {},
   "outputs": [],
   "source": []
  }
 ],
 "metadata": {
  "kernelspec": {
   "display_name": "Python 3",
   "language": "python",
   "name": "python3"
  },
  "language_info": {
   "codemirror_mode": {
    "name": "ipython",
    "version": 3
   },
   "file_extension": ".py",
   "mimetype": "text/x-python",
   "name": "python",
   "nbconvert_exporter": "python",
   "pygments_lexer": "ipython3",
   "version": "3.8.10"
  }
 },
 "nbformat": 4,
 "nbformat_minor": 4
}
